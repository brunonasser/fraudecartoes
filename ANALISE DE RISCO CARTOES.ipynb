{
 "cells": [
  {
   "cell_type": "markdown",
   "metadata": {},
   "source": [
    "# ANÁLISE DE FRAUDE EM CARTÃO DE CRÉDITO"
   ]
  },
  {
   "cell_type": "markdown",
   "metadata": {},
   "source": [
    "### IMPORTANTO BIBLIOTECAS"
   ]
  },
  {
   "cell_type": "code",
   "execution_count": 1,
   "metadata": {},
   "outputs": [],
   "source": [
    "import numpy as np\n",
    "import pandas as pd\n",
    "import seaborn as sns\n",
    "import matplotlib.pyplot as plt\n",
    "%matplotlib inline"
   ]
  },
  {
   "cell_type": "code",
   "execution_count": 2,
   "metadata": {},
   "outputs": [],
   "source": [
    "df=pd.read_csv('creditcard.csv')"
   ]
  },
  {
   "cell_type": "code",
   "execution_count": 3,
   "metadata": {},
   "outputs": [
    {
     "data": {
      "text/html": [
       "<div>\n",
       "<style scoped>\n",
       "    .dataframe tbody tr th:only-of-type {\n",
       "        vertical-align: middle;\n",
       "    }\n",
       "\n",
       "    .dataframe tbody tr th {\n",
       "        vertical-align: top;\n",
       "    }\n",
       "\n",
       "    .dataframe thead th {\n",
       "        text-align: right;\n",
       "    }\n",
       "</style>\n",
       "<table border=\"1\" class=\"dataframe\">\n",
       "  <thead>\n",
       "    <tr style=\"text-align: right;\">\n",
       "      <th></th>\n",
       "      <th>Time</th>\n",
       "      <th>V1</th>\n",
       "      <th>V2</th>\n",
       "      <th>V3</th>\n",
       "      <th>V4</th>\n",
       "      <th>V5</th>\n",
       "      <th>V6</th>\n",
       "      <th>V7</th>\n",
       "      <th>V8</th>\n",
       "      <th>V9</th>\n",
       "      <th>...</th>\n",
       "      <th>V21</th>\n",
       "      <th>V22</th>\n",
       "      <th>V23</th>\n",
       "      <th>V24</th>\n",
       "      <th>V25</th>\n",
       "      <th>V26</th>\n",
       "      <th>V27</th>\n",
       "      <th>V28</th>\n",
       "      <th>Amount</th>\n",
       "      <th>Class</th>\n",
       "    </tr>\n",
       "  </thead>\n",
       "  <tbody>\n",
       "    <tr>\n",
       "      <th>0</th>\n",
       "      <td>0.0</td>\n",
       "      <td>-1.359807</td>\n",
       "      <td>-0.072781</td>\n",
       "      <td>2.536347</td>\n",
       "      <td>1.378155</td>\n",
       "      <td>-0.338321</td>\n",
       "      <td>0.462388</td>\n",
       "      <td>0.239599</td>\n",
       "      <td>0.098698</td>\n",
       "      <td>0.363787</td>\n",
       "      <td>...</td>\n",
       "      <td>-0.018307</td>\n",
       "      <td>0.277838</td>\n",
       "      <td>-0.110474</td>\n",
       "      <td>0.066928</td>\n",
       "      <td>0.128539</td>\n",
       "      <td>-0.189115</td>\n",
       "      <td>0.133558</td>\n",
       "      <td>-0.021053</td>\n",
       "      <td>149.62</td>\n",
       "      <td>0</td>\n",
       "    </tr>\n",
       "    <tr>\n",
       "      <th>1</th>\n",
       "      <td>0.0</td>\n",
       "      <td>1.191857</td>\n",
       "      <td>0.266151</td>\n",
       "      <td>0.166480</td>\n",
       "      <td>0.448154</td>\n",
       "      <td>0.060018</td>\n",
       "      <td>-0.082361</td>\n",
       "      <td>-0.078803</td>\n",
       "      <td>0.085102</td>\n",
       "      <td>-0.255425</td>\n",
       "      <td>...</td>\n",
       "      <td>-0.225775</td>\n",
       "      <td>-0.638672</td>\n",
       "      <td>0.101288</td>\n",
       "      <td>-0.339846</td>\n",
       "      <td>0.167170</td>\n",
       "      <td>0.125895</td>\n",
       "      <td>-0.008983</td>\n",
       "      <td>0.014724</td>\n",
       "      <td>2.69</td>\n",
       "      <td>0</td>\n",
       "    </tr>\n",
       "    <tr>\n",
       "      <th>2</th>\n",
       "      <td>1.0</td>\n",
       "      <td>-1.358354</td>\n",
       "      <td>-1.340163</td>\n",
       "      <td>1.773209</td>\n",
       "      <td>0.379780</td>\n",
       "      <td>-0.503198</td>\n",
       "      <td>1.800499</td>\n",
       "      <td>0.791461</td>\n",
       "      <td>0.247676</td>\n",
       "      <td>-1.514654</td>\n",
       "      <td>...</td>\n",
       "      <td>0.247998</td>\n",
       "      <td>0.771679</td>\n",
       "      <td>0.909412</td>\n",
       "      <td>-0.689281</td>\n",
       "      <td>-0.327642</td>\n",
       "      <td>-0.139097</td>\n",
       "      <td>-0.055353</td>\n",
       "      <td>-0.059752</td>\n",
       "      <td>378.66</td>\n",
       "      <td>0</td>\n",
       "    </tr>\n",
       "    <tr>\n",
       "      <th>3</th>\n",
       "      <td>1.0</td>\n",
       "      <td>-0.966272</td>\n",
       "      <td>-0.185226</td>\n",
       "      <td>1.792993</td>\n",
       "      <td>-0.863291</td>\n",
       "      <td>-0.010309</td>\n",
       "      <td>1.247203</td>\n",
       "      <td>0.237609</td>\n",
       "      <td>0.377436</td>\n",
       "      <td>-1.387024</td>\n",
       "      <td>...</td>\n",
       "      <td>-0.108300</td>\n",
       "      <td>0.005274</td>\n",
       "      <td>-0.190321</td>\n",
       "      <td>-1.175575</td>\n",
       "      <td>0.647376</td>\n",
       "      <td>-0.221929</td>\n",
       "      <td>0.062723</td>\n",
       "      <td>0.061458</td>\n",
       "      <td>123.50</td>\n",
       "      <td>0</td>\n",
       "    </tr>\n",
       "    <tr>\n",
       "      <th>4</th>\n",
       "      <td>2.0</td>\n",
       "      <td>-1.158233</td>\n",
       "      <td>0.877737</td>\n",
       "      <td>1.548718</td>\n",
       "      <td>0.403034</td>\n",
       "      <td>-0.407193</td>\n",
       "      <td>0.095921</td>\n",
       "      <td>0.592941</td>\n",
       "      <td>-0.270533</td>\n",
       "      <td>0.817739</td>\n",
       "      <td>...</td>\n",
       "      <td>-0.009431</td>\n",
       "      <td>0.798278</td>\n",
       "      <td>-0.137458</td>\n",
       "      <td>0.141267</td>\n",
       "      <td>-0.206010</td>\n",
       "      <td>0.502292</td>\n",
       "      <td>0.219422</td>\n",
       "      <td>0.215153</td>\n",
       "      <td>69.99</td>\n",
       "      <td>0</td>\n",
       "    </tr>\n",
       "    <tr>\n",
       "      <th>...</th>\n",
       "      <td>...</td>\n",
       "      <td>...</td>\n",
       "      <td>...</td>\n",
       "      <td>...</td>\n",
       "      <td>...</td>\n",
       "      <td>...</td>\n",
       "      <td>...</td>\n",
       "      <td>...</td>\n",
       "      <td>...</td>\n",
       "      <td>...</td>\n",
       "      <td>...</td>\n",
       "      <td>...</td>\n",
       "      <td>...</td>\n",
       "      <td>...</td>\n",
       "      <td>...</td>\n",
       "      <td>...</td>\n",
       "      <td>...</td>\n",
       "      <td>...</td>\n",
       "      <td>...</td>\n",
       "      <td>...</td>\n",
       "      <td>...</td>\n",
       "    </tr>\n",
       "    <tr>\n",
       "      <th>284802</th>\n",
       "      <td>172786.0</td>\n",
       "      <td>-11.881118</td>\n",
       "      <td>10.071785</td>\n",
       "      <td>-9.834783</td>\n",
       "      <td>-2.066656</td>\n",
       "      <td>-5.364473</td>\n",
       "      <td>-2.606837</td>\n",
       "      <td>-4.918215</td>\n",
       "      <td>7.305334</td>\n",
       "      <td>1.914428</td>\n",
       "      <td>...</td>\n",
       "      <td>0.213454</td>\n",
       "      <td>0.111864</td>\n",
       "      <td>1.014480</td>\n",
       "      <td>-0.509348</td>\n",
       "      <td>1.436807</td>\n",
       "      <td>0.250034</td>\n",
       "      <td>0.943651</td>\n",
       "      <td>0.823731</td>\n",
       "      <td>0.77</td>\n",
       "      <td>0</td>\n",
       "    </tr>\n",
       "    <tr>\n",
       "      <th>284803</th>\n",
       "      <td>172787.0</td>\n",
       "      <td>-0.732789</td>\n",
       "      <td>-0.055080</td>\n",
       "      <td>2.035030</td>\n",
       "      <td>-0.738589</td>\n",
       "      <td>0.868229</td>\n",
       "      <td>1.058415</td>\n",
       "      <td>0.024330</td>\n",
       "      <td>0.294869</td>\n",
       "      <td>0.584800</td>\n",
       "      <td>...</td>\n",
       "      <td>0.214205</td>\n",
       "      <td>0.924384</td>\n",
       "      <td>0.012463</td>\n",
       "      <td>-1.016226</td>\n",
       "      <td>-0.606624</td>\n",
       "      <td>-0.395255</td>\n",
       "      <td>0.068472</td>\n",
       "      <td>-0.053527</td>\n",
       "      <td>24.79</td>\n",
       "      <td>0</td>\n",
       "    </tr>\n",
       "    <tr>\n",
       "      <th>284804</th>\n",
       "      <td>172788.0</td>\n",
       "      <td>1.919565</td>\n",
       "      <td>-0.301254</td>\n",
       "      <td>-3.249640</td>\n",
       "      <td>-0.557828</td>\n",
       "      <td>2.630515</td>\n",
       "      <td>3.031260</td>\n",
       "      <td>-0.296827</td>\n",
       "      <td>0.708417</td>\n",
       "      <td>0.432454</td>\n",
       "      <td>...</td>\n",
       "      <td>0.232045</td>\n",
       "      <td>0.578229</td>\n",
       "      <td>-0.037501</td>\n",
       "      <td>0.640134</td>\n",
       "      <td>0.265745</td>\n",
       "      <td>-0.087371</td>\n",
       "      <td>0.004455</td>\n",
       "      <td>-0.026561</td>\n",
       "      <td>67.88</td>\n",
       "      <td>0</td>\n",
       "    </tr>\n",
       "    <tr>\n",
       "      <th>284805</th>\n",
       "      <td>172788.0</td>\n",
       "      <td>-0.240440</td>\n",
       "      <td>0.530483</td>\n",
       "      <td>0.702510</td>\n",
       "      <td>0.689799</td>\n",
       "      <td>-0.377961</td>\n",
       "      <td>0.623708</td>\n",
       "      <td>-0.686180</td>\n",
       "      <td>0.679145</td>\n",
       "      <td>0.392087</td>\n",
       "      <td>...</td>\n",
       "      <td>0.265245</td>\n",
       "      <td>0.800049</td>\n",
       "      <td>-0.163298</td>\n",
       "      <td>0.123205</td>\n",
       "      <td>-0.569159</td>\n",
       "      <td>0.546668</td>\n",
       "      <td>0.108821</td>\n",
       "      <td>0.104533</td>\n",
       "      <td>10.00</td>\n",
       "      <td>0</td>\n",
       "    </tr>\n",
       "    <tr>\n",
       "      <th>284806</th>\n",
       "      <td>172792.0</td>\n",
       "      <td>-0.533413</td>\n",
       "      <td>-0.189733</td>\n",
       "      <td>0.703337</td>\n",
       "      <td>-0.506271</td>\n",
       "      <td>-0.012546</td>\n",
       "      <td>-0.649617</td>\n",
       "      <td>1.577006</td>\n",
       "      <td>-0.414650</td>\n",
       "      <td>0.486180</td>\n",
       "      <td>...</td>\n",
       "      <td>0.261057</td>\n",
       "      <td>0.643078</td>\n",
       "      <td>0.376777</td>\n",
       "      <td>0.008797</td>\n",
       "      <td>-0.473649</td>\n",
       "      <td>-0.818267</td>\n",
       "      <td>-0.002415</td>\n",
       "      <td>0.013649</td>\n",
       "      <td>217.00</td>\n",
       "      <td>0</td>\n",
       "    </tr>\n",
       "  </tbody>\n",
       "</table>\n",
       "<p>284807 rows × 31 columns</p>\n",
       "</div>"
      ],
      "text/plain": [
       "            Time         V1         V2        V3        V4        V5  \\\n",
       "0            0.0  -1.359807  -0.072781  2.536347  1.378155 -0.338321   \n",
       "1            0.0   1.191857   0.266151  0.166480  0.448154  0.060018   \n",
       "2            1.0  -1.358354  -1.340163  1.773209  0.379780 -0.503198   \n",
       "3            1.0  -0.966272  -0.185226  1.792993 -0.863291 -0.010309   \n",
       "4            2.0  -1.158233   0.877737  1.548718  0.403034 -0.407193   \n",
       "...          ...        ...        ...       ...       ...       ...   \n",
       "284802  172786.0 -11.881118  10.071785 -9.834783 -2.066656 -5.364473   \n",
       "284803  172787.0  -0.732789  -0.055080  2.035030 -0.738589  0.868229   \n",
       "284804  172788.0   1.919565  -0.301254 -3.249640 -0.557828  2.630515   \n",
       "284805  172788.0  -0.240440   0.530483  0.702510  0.689799 -0.377961   \n",
       "284806  172792.0  -0.533413  -0.189733  0.703337 -0.506271 -0.012546   \n",
       "\n",
       "              V6        V7        V8        V9  ...       V21       V22  \\\n",
       "0       0.462388  0.239599  0.098698  0.363787  ... -0.018307  0.277838   \n",
       "1      -0.082361 -0.078803  0.085102 -0.255425  ... -0.225775 -0.638672   \n",
       "2       1.800499  0.791461  0.247676 -1.514654  ...  0.247998  0.771679   \n",
       "3       1.247203  0.237609  0.377436 -1.387024  ... -0.108300  0.005274   \n",
       "4       0.095921  0.592941 -0.270533  0.817739  ... -0.009431  0.798278   \n",
       "...          ...       ...       ...       ...  ...       ...       ...   \n",
       "284802 -2.606837 -4.918215  7.305334  1.914428  ...  0.213454  0.111864   \n",
       "284803  1.058415  0.024330  0.294869  0.584800  ...  0.214205  0.924384   \n",
       "284804  3.031260 -0.296827  0.708417  0.432454  ...  0.232045  0.578229   \n",
       "284805  0.623708 -0.686180  0.679145  0.392087  ...  0.265245  0.800049   \n",
       "284806 -0.649617  1.577006 -0.414650  0.486180  ...  0.261057  0.643078   \n",
       "\n",
       "             V23       V24       V25       V26       V27       V28  Amount  \\\n",
       "0      -0.110474  0.066928  0.128539 -0.189115  0.133558 -0.021053  149.62   \n",
       "1       0.101288 -0.339846  0.167170  0.125895 -0.008983  0.014724    2.69   \n",
       "2       0.909412 -0.689281 -0.327642 -0.139097 -0.055353 -0.059752  378.66   \n",
       "3      -0.190321 -1.175575  0.647376 -0.221929  0.062723  0.061458  123.50   \n",
       "4      -0.137458  0.141267 -0.206010  0.502292  0.219422  0.215153   69.99   \n",
       "...          ...       ...       ...       ...       ...       ...     ...   \n",
       "284802  1.014480 -0.509348  1.436807  0.250034  0.943651  0.823731    0.77   \n",
       "284803  0.012463 -1.016226 -0.606624 -0.395255  0.068472 -0.053527   24.79   \n",
       "284804 -0.037501  0.640134  0.265745 -0.087371  0.004455 -0.026561   67.88   \n",
       "284805 -0.163298  0.123205 -0.569159  0.546668  0.108821  0.104533   10.00   \n",
       "284806  0.376777  0.008797 -0.473649 -0.818267 -0.002415  0.013649  217.00   \n",
       "\n",
       "        Class  \n",
       "0           0  \n",
       "1           0  \n",
       "2           0  \n",
       "3           0  \n",
       "4           0  \n",
       "...       ...  \n",
       "284802      0  \n",
       "284803      0  \n",
       "284804      0  \n",
       "284805      0  \n",
       "284806      0  \n",
       "\n",
       "[284807 rows x 31 columns]"
      ]
     },
     "execution_count": 3,
     "metadata": {},
     "output_type": "execute_result"
    }
   ],
   "source": [
    "df"
   ]
  },
  {
   "cell_type": "code",
   "execution_count": 4,
   "metadata": {},
   "outputs": [
    {
     "data": {
      "text/plain": [
       "Time      0\n",
       "V1        0\n",
       "V2        0\n",
       "V3        0\n",
       "V4        0\n",
       "V5        0\n",
       "V6        0\n",
       "V7        0\n",
       "V8        0\n",
       "V9        0\n",
       "V10       0\n",
       "V11       0\n",
       "V12       0\n",
       "V13       0\n",
       "V14       0\n",
       "V15       0\n",
       "V16       0\n",
       "V17       0\n",
       "V18       0\n",
       "V19       0\n",
       "V20       0\n",
       "V21       0\n",
       "V22       0\n",
       "V23       0\n",
       "V24       0\n",
       "V25       0\n",
       "V26       0\n",
       "V27       0\n",
       "V28       0\n",
       "Amount    0\n",
       "Class     0\n",
       "dtype: int64"
      ]
     },
     "execution_count": 4,
     "metadata": {},
     "output_type": "execute_result"
    }
   ],
   "source": [
    "#VERIFICANDO DADOS FALTANTES\n",
    "df.isnull().sum()"
   ]
  },
  {
   "cell_type": "markdown",
   "metadata": {},
   "source": [
    "O dataset apresenta dados completos"
   ]
  },
  {
   "cell_type": "code",
   "execution_count": 5,
   "metadata": {},
   "outputs": [
    {
     "data": {
      "text/html": [
       "<div>\n",
       "<style scoped>\n",
       "    .dataframe tbody tr th:only-of-type {\n",
       "        vertical-align: middle;\n",
       "    }\n",
       "\n",
       "    .dataframe tbody tr th {\n",
       "        vertical-align: top;\n",
       "    }\n",
       "\n",
       "    .dataframe thead th {\n",
       "        text-align: right;\n",
       "    }\n",
       "</style>\n",
       "<table border=\"1\" class=\"dataframe\">\n",
       "  <thead>\n",
       "    <tr style=\"text-align: right;\">\n",
       "      <th></th>\n",
       "      <th>Time</th>\n",
       "      <th>V1</th>\n",
       "      <th>V2</th>\n",
       "      <th>V3</th>\n",
       "      <th>V4</th>\n",
       "      <th>V5</th>\n",
       "      <th>V6</th>\n",
       "      <th>V7</th>\n",
       "      <th>V8</th>\n",
       "      <th>V9</th>\n",
       "      <th>...</th>\n",
       "      <th>V21</th>\n",
       "      <th>V22</th>\n",
       "      <th>V23</th>\n",
       "      <th>V24</th>\n",
       "      <th>V25</th>\n",
       "      <th>V26</th>\n",
       "      <th>V27</th>\n",
       "      <th>V28</th>\n",
       "      <th>Amount</th>\n",
       "      <th>Class</th>\n",
       "    </tr>\n",
       "  </thead>\n",
       "  <tbody>\n",
       "    <tr>\n",
       "      <th>count</th>\n",
       "      <td>284807.000000</td>\n",
       "      <td>2.848070e+05</td>\n",
       "      <td>2.848070e+05</td>\n",
       "      <td>2.848070e+05</td>\n",
       "      <td>2.848070e+05</td>\n",
       "      <td>2.848070e+05</td>\n",
       "      <td>2.848070e+05</td>\n",
       "      <td>2.848070e+05</td>\n",
       "      <td>2.848070e+05</td>\n",
       "      <td>2.848070e+05</td>\n",
       "      <td>...</td>\n",
       "      <td>2.848070e+05</td>\n",
       "      <td>2.848070e+05</td>\n",
       "      <td>2.848070e+05</td>\n",
       "      <td>2.848070e+05</td>\n",
       "      <td>2.848070e+05</td>\n",
       "      <td>2.848070e+05</td>\n",
       "      <td>2.848070e+05</td>\n",
       "      <td>2.848070e+05</td>\n",
       "      <td>284807.000000</td>\n",
       "      <td>284807.000000</td>\n",
       "    </tr>\n",
       "    <tr>\n",
       "      <th>mean</th>\n",
       "      <td>94813.859575</td>\n",
       "      <td>3.919560e-15</td>\n",
       "      <td>5.688174e-16</td>\n",
       "      <td>-8.769071e-15</td>\n",
       "      <td>2.782312e-15</td>\n",
       "      <td>-1.552563e-15</td>\n",
       "      <td>2.010663e-15</td>\n",
       "      <td>-1.694249e-15</td>\n",
       "      <td>-1.927028e-16</td>\n",
       "      <td>-3.137024e-15</td>\n",
       "      <td>...</td>\n",
       "      <td>1.537294e-16</td>\n",
       "      <td>7.959909e-16</td>\n",
       "      <td>5.367590e-16</td>\n",
       "      <td>4.458112e-15</td>\n",
       "      <td>1.453003e-15</td>\n",
       "      <td>1.699104e-15</td>\n",
       "      <td>-3.660161e-16</td>\n",
       "      <td>-1.206049e-16</td>\n",
       "      <td>88.349619</td>\n",
       "      <td>0.001727</td>\n",
       "    </tr>\n",
       "    <tr>\n",
       "      <th>std</th>\n",
       "      <td>47488.145955</td>\n",
       "      <td>1.958696e+00</td>\n",
       "      <td>1.651309e+00</td>\n",
       "      <td>1.516255e+00</td>\n",
       "      <td>1.415869e+00</td>\n",
       "      <td>1.380247e+00</td>\n",
       "      <td>1.332271e+00</td>\n",
       "      <td>1.237094e+00</td>\n",
       "      <td>1.194353e+00</td>\n",
       "      <td>1.098632e+00</td>\n",
       "      <td>...</td>\n",
       "      <td>7.345240e-01</td>\n",
       "      <td>7.257016e-01</td>\n",
       "      <td>6.244603e-01</td>\n",
       "      <td>6.056471e-01</td>\n",
       "      <td>5.212781e-01</td>\n",
       "      <td>4.822270e-01</td>\n",
       "      <td>4.036325e-01</td>\n",
       "      <td>3.300833e-01</td>\n",
       "      <td>250.120109</td>\n",
       "      <td>0.041527</td>\n",
       "    </tr>\n",
       "    <tr>\n",
       "      <th>min</th>\n",
       "      <td>0.000000</td>\n",
       "      <td>-5.640751e+01</td>\n",
       "      <td>-7.271573e+01</td>\n",
       "      <td>-4.832559e+01</td>\n",
       "      <td>-5.683171e+00</td>\n",
       "      <td>-1.137433e+02</td>\n",
       "      <td>-2.616051e+01</td>\n",
       "      <td>-4.355724e+01</td>\n",
       "      <td>-7.321672e+01</td>\n",
       "      <td>-1.343407e+01</td>\n",
       "      <td>...</td>\n",
       "      <td>-3.483038e+01</td>\n",
       "      <td>-1.093314e+01</td>\n",
       "      <td>-4.480774e+01</td>\n",
       "      <td>-2.836627e+00</td>\n",
       "      <td>-1.029540e+01</td>\n",
       "      <td>-2.604551e+00</td>\n",
       "      <td>-2.256568e+01</td>\n",
       "      <td>-1.543008e+01</td>\n",
       "      <td>0.000000</td>\n",
       "      <td>0.000000</td>\n",
       "    </tr>\n",
       "    <tr>\n",
       "      <th>25%</th>\n",
       "      <td>54201.500000</td>\n",
       "      <td>-9.203734e-01</td>\n",
       "      <td>-5.985499e-01</td>\n",
       "      <td>-8.903648e-01</td>\n",
       "      <td>-8.486401e-01</td>\n",
       "      <td>-6.915971e-01</td>\n",
       "      <td>-7.682956e-01</td>\n",
       "      <td>-5.540759e-01</td>\n",
       "      <td>-2.086297e-01</td>\n",
       "      <td>-6.430976e-01</td>\n",
       "      <td>...</td>\n",
       "      <td>-2.283949e-01</td>\n",
       "      <td>-5.423504e-01</td>\n",
       "      <td>-1.618463e-01</td>\n",
       "      <td>-3.545861e-01</td>\n",
       "      <td>-3.171451e-01</td>\n",
       "      <td>-3.269839e-01</td>\n",
       "      <td>-7.083953e-02</td>\n",
       "      <td>-5.295979e-02</td>\n",
       "      <td>5.600000</td>\n",
       "      <td>0.000000</td>\n",
       "    </tr>\n",
       "    <tr>\n",
       "      <th>50%</th>\n",
       "      <td>84692.000000</td>\n",
       "      <td>1.810880e-02</td>\n",
       "      <td>6.548556e-02</td>\n",
       "      <td>1.798463e-01</td>\n",
       "      <td>-1.984653e-02</td>\n",
       "      <td>-5.433583e-02</td>\n",
       "      <td>-2.741871e-01</td>\n",
       "      <td>4.010308e-02</td>\n",
       "      <td>2.235804e-02</td>\n",
       "      <td>-5.142873e-02</td>\n",
       "      <td>...</td>\n",
       "      <td>-2.945017e-02</td>\n",
       "      <td>6.781943e-03</td>\n",
       "      <td>-1.119293e-02</td>\n",
       "      <td>4.097606e-02</td>\n",
       "      <td>1.659350e-02</td>\n",
       "      <td>-5.213911e-02</td>\n",
       "      <td>1.342146e-03</td>\n",
       "      <td>1.124383e-02</td>\n",
       "      <td>22.000000</td>\n",
       "      <td>0.000000</td>\n",
       "    </tr>\n",
       "    <tr>\n",
       "      <th>75%</th>\n",
       "      <td>139320.500000</td>\n",
       "      <td>1.315642e+00</td>\n",
       "      <td>8.037239e-01</td>\n",
       "      <td>1.027196e+00</td>\n",
       "      <td>7.433413e-01</td>\n",
       "      <td>6.119264e-01</td>\n",
       "      <td>3.985649e-01</td>\n",
       "      <td>5.704361e-01</td>\n",
       "      <td>3.273459e-01</td>\n",
       "      <td>5.971390e-01</td>\n",
       "      <td>...</td>\n",
       "      <td>1.863772e-01</td>\n",
       "      <td>5.285536e-01</td>\n",
       "      <td>1.476421e-01</td>\n",
       "      <td>4.395266e-01</td>\n",
       "      <td>3.507156e-01</td>\n",
       "      <td>2.409522e-01</td>\n",
       "      <td>9.104512e-02</td>\n",
       "      <td>7.827995e-02</td>\n",
       "      <td>77.165000</td>\n",
       "      <td>0.000000</td>\n",
       "    </tr>\n",
       "    <tr>\n",
       "      <th>max</th>\n",
       "      <td>172792.000000</td>\n",
       "      <td>2.454930e+00</td>\n",
       "      <td>2.205773e+01</td>\n",
       "      <td>9.382558e+00</td>\n",
       "      <td>1.687534e+01</td>\n",
       "      <td>3.480167e+01</td>\n",
       "      <td>7.330163e+01</td>\n",
       "      <td>1.205895e+02</td>\n",
       "      <td>2.000721e+01</td>\n",
       "      <td>1.559499e+01</td>\n",
       "      <td>...</td>\n",
       "      <td>2.720284e+01</td>\n",
       "      <td>1.050309e+01</td>\n",
       "      <td>2.252841e+01</td>\n",
       "      <td>4.584549e+00</td>\n",
       "      <td>7.519589e+00</td>\n",
       "      <td>3.517346e+00</td>\n",
       "      <td>3.161220e+01</td>\n",
       "      <td>3.384781e+01</td>\n",
       "      <td>25691.160000</td>\n",
       "      <td>1.000000</td>\n",
       "    </tr>\n",
       "  </tbody>\n",
       "</table>\n",
       "<p>8 rows × 31 columns</p>\n",
       "</div>"
      ],
      "text/plain": [
       "                Time            V1            V2            V3            V4  \\\n",
       "count  284807.000000  2.848070e+05  2.848070e+05  2.848070e+05  2.848070e+05   \n",
       "mean    94813.859575  3.919560e-15  5.688174e-16 -8.769071e-15  2.782312e-15   \n",
       "std     47488.145955  1.958696e+00  1.651309e+00  1.516255e+00  1.415869e+00   \n",
       "min         0.000000 -5.640751e+01 -7.271573e+01 -4.832559e+01 -5.683171e+00   \n",
       "25%     54201.500000 -9.203734e-01 -5.985499e-01 -8.903648e-01 -8.486401e-01   \n",
       "50%     84692.000000  1.810880e-02  6.548556e-02  1.798463e-01 -1.984653e-02   \n",
       "75%    139320.500000  1.315642e+00  8.037239e-01  1.027196e+00  7.433413e-01   \n",
       "max    172792.000000  2.454930e+00  2.205773e+01  9.382558e+00  1.687534e+01   \n",
       "\n",
       "                 V5            V6            V7            V8            V9  \\\n",
       "count  2.848070e+05  2.848070e+05  2.848070e+05  2.848070e+05  2.848070e+05   \n",
       "mean  -1.552563e-15  2.010663e-15 -1.694249e-15 -1.927028e-16 -3.137024e-15   \n",
       "std    1.380247e+00  1.332271e+00  1.237094e+00  1.194353e+00  1.098632e+00   \n",
       "min   -1.137433e+02 -2.616051e+01 -4.355724e+01 -7.321672e+01 -1.343407e+01   \n",
       "25%   -6.915971e-01 -7.682956e-01 -5.540759e-01 -2.086297e-01 -6.430976e-01   \n",
       "50%   -5.433583e-02 -2.741871e-01  4.010308e-02  2.235804e-02 -5.142873e-02   \n",
       "75%    6.119264e-01  3.985649e-01  5.704361e-01  3.273459e-01  5.971390e-01   \n",
       "max    3.480167e+01  7.330163e+01  1.205895e+02  2.000721e+01  1.559499e+01   \n",
       "\n",
       "       ...           V21           V22           V23           V24  \\\n",
       "count  ...  2.848070e+05  2.848070e+05  2.848070e+05  2.848070e+05   \n",
       "mean   ...  1.537294e-16  7.959909e-16  5.367590e-16  4.458112e-15   \n",
       "std    ...  7.345240e-01  7.257016e-01  6.244603e-01  6.056471e-01   \n",
       "min    ... -3.483038e+01 -1.093314e+01 -4.480774e+01 -2.836627e+00   \n",
       "25%    ... -2.283949e-01 -5.423504e-01 -1.618463e-01 -3.545861e-01   \n",
       "50%    ... -2.945017e-02  6.781943e-03 -1.119293e-02  4.097606e-02   \n",
       "75%    ...  1.863772e-01  5.285536e-01  1.476421e-01  4.395266e-01   \n",
       "max    ...  2.720284e+01  1.050309e+01  2.252841e+01  4.584549e+00   \n",
       "\n",
       "                V25           V26           V27           V28         Amount  \\\n",
       "count  2.848070e+05  2.848070e+05  2.848070e+05  2.848070e+05  284807.000000   \n",
       "mean   1.453003e-15  1.699104e-15 -3.660161e-16 -1.206049e-16      88.349619   \n",
       "std    5.212781e-01  4.822270e-01  4.036325e-01  3.300833e-01     250.120109   \n",
       "min   -1.029540e+01 -2.604551e+00 -2.256568e+01 -1.543008e+01       0.000000   \n",
       "25%   -3.171451e-01 -3.269839e-01 -7.083953e-02 -5.295979e-02       5.600000   \n",
       "50%    1.659350e-02 -5.213911e-02  1.342146e-03  1.124383e-02      22.000000   \n",
       "75%    3.507156e-01  2.409522e-01  9.104512e-02  7.827995e-02      77.165000   \n",
       "max    7.519589e+00  3.517346e+00  3.161220e+01  3.384781e+01   25691.160000   \n",
       "\n",
       "               Class  \n",
       "count  284807.000000  \n",
       "mean        0.001727  \n",
       "std         0.041527  \n",
       "min         0.000000  \n",
       "25%         0.000000  \n",
       "50%         0.000000  \n",
       "75%         0.000000  \n",
       "max         1.000000  \n",
       "\n",
       "[8 rows x 31 columns]"
      ]
     },
     "execution_count": 5,
     "metadata": {},
     "output_type": "execute_result"
    }
   ],
   "source": [
    "df.describe()"
   ]
  },
  {
   "cell_type": "markdown",
   "metadata": {},
   "source": [
    "Abaixo vamos analisar como se encontra o balanço de dados para a \"Class\" na qual Class=1 indica fraude e Class=0 indica não-fraude"
   ]
  },
  {
   "cell_type": "code",
   "execution_count": 6,
   "metadata": {},
   "outputs": [
    {
     "data": {
      "text/plain": [
       "<matplotlib.axes._subplots.AxesSubplot at 0xbe72749e88>"
      ]
     },
     "execution_count": 6,
     "metadata": {},
     "output_type": "execute_result"
    },
    {
     "data": {
      "image/png": "[encoded data removed]",
      "text/plain": [
       "<Figure size 432x288 with 1 Axes>"
      ]
     },
     "metadata": {
      "needs_background": "light"
     },
     "output_type": "display_data"
    }
   ],
   "source": [
    "sns.countplot(data=df, x='Class')"
   ]
  },
  {
   "cell_type": "markdown",
   "metadata": {},
   "source": [
    "Os dados se encontram desbalanceados"
   ]
  },
  {
   "cell_type": "code",
   "execution_count": 7,
   "metadata": {},
   "outputs": [
    {
     "data": {
      "text/plain": [
       "0    284315\n",
       "1       492\n",
       "Name: Class, dtype: int64"
      ]
     },
     "execution_count": 7,
     "metadata": {},
     "output_type": "execute_result"
    }
   ],
   "source": [
    "df['Class'].value_counts()"
   ]
  },
  {
   "cell_type": "code",
   "execution_count": 8,
   "metadata": {},
   "outputs": [],
   "source": [
    "porc_fraud=(492/284315)*100"
   ]
  },
  {
   "cell_type": "code",
   "execution_count": 9,
   "metadata": {},
   "outputs": [
    {
     "data": {
      "text/plain": [
       "0.17304750013189596"
      ]
     },
     "execution_count": 9,
     "metadata": {},
     "output_type": "execute_result"
    }
   ],
   "source": [
    "porc_fraud"
   ]
  },
  {
   "cell_type": "markdown",
   "metadata": {},
   "source": [
    "Apenas 0,17% dos dados tem confirmação de fraude"
   ]
  },
  {
   "cell_type": "code",
   "execution_count": 10,
   "metadata": {},
   "outputs": [
    {
     "data": {
      "text/html": [
       "<div>\n",
       "<style scoped>\n",
       "    .dataframe tbody tr th:only-of-type {\n",
       "        vertical-align: middle;\n",
       "    }\n",
       "\n",
       "    .dataframe tbody tr th {\n",
       "        vertical-align: top;\n",
       "    }\n",
       "\n",
       "    .dataframe thead th {\n",
       "        text-align: right;\n",
       "    }\n",
       "</style>\n",
       "<table border=\"1\" class=\"dataframe\">\n",
       "  <thead>\n",
       "    <tr style=\"text-align: right;\">\n",
       "      <th></th>\n",
       "      <th>Time</th>\n",
       "      <th>V1</th>\n",
       "      <th>V2</th>\n",
       "      <th>V3</th>\n",
       "      <th>V4</th>\n",
       "      <th>V5</th>\n",
       "      <th>V6</th>\n",
       "      <th>V7</th>\n",
       "      <th>V8</th>\n",
       "      <th>V9</th>\n",
       "      <th>...</th>\n",
       "      <th>V21</th>\n",
       "      <th>V22</th>\n",
       "      <th>V23</th>\n",
       "      <th>V24</th>\n",
       "      <th>V25</th>\n",
       "      <th>V26</th>\n",
       "      <th>V27</th>\n",
       "      <th>V28</th>\n",
       "      <th>Amount</th>\n",
       "      <th>Class</th>\n",
       "    </tr>\n",
       "  </thead>\n",
       "  <tbody>\n",
       "    <tr>\n",
       "      <th>0</th>\n",
       "      <td>0.0</td>\n",
       "      <td>-1.359807</td>\n",
       "      <td>-0.072781</td>\n",
       "      <td>2.536347</td>\n",
       "      <td>1.378155</td>\n",
       "      <td>-0.338321</td>\n",
       "      <td>0.462388</td>\n",
       "      <td>0.239599</td>\n",
       "      <td>0.098698</td>\n",
       "      <td>0.363787</td>\n",
       "      <td>...</td>\n",
       "      <td>-0.018307</td>\n",
       "      <td>0.277838</td>\n",
       "      <td>-0.110474</td>\n",
       "      <td>0.066928</td>\n",
       "      <td>0.128539</td>\n",
       "      <td>-0.189115</td>\n",
       "      <td>0.133558</td>\n",
       "      <td>-0.021053</td>\n",
       "      <td>149.62</td>\n",
       "      <td>0</td>\n",
       "    </tr>\n",
       "    <tr>\n",
       "      <th>1</th>\n",
       "      <td>0.0</td>\n",
       "      <td>1.191857</td>\n",
       "      <td>0.266151</td>\n",
       "      <td>0.166480</td>\n",
       "      <td>0.448154</td>\n",
       "      <td>0.060018</td>\n",
       "      <td>-0.082361</td>\n",
       "      <td>-0.078803</td>\n",
       "      <td>0.085102</td>\n",
       "      <td>-0.255425</td>\n",
       "      <td>...</td>\n",
       "      <td>-0.225775</td>\n",
       "      <td>-0.638672</td>\n",
       "      <td>0.101288</td>\n",
       "      <td>-0.339846</td>\n",
       "      <td>0.167170</td>\n",
       "      <td>0.125895</td>\n",
       "      <td>-0.008983</td>\n",
       "      <td>0.014724</td>\n",
       "      <td>2.69</td>\n",
       "      <td>0</td>\n",
       "    </tr>\n",
       "    <tr>\n",
       "      <th>2</th>\n",
       "      <td>1.0</td>\n",
       "      <td>-1.358354</td>\n",
       "      <td>-1.340163</td>\n",
       "      <td>1.773209</td>\n",
       "      <td>0.379780</td>\n",
       "      <td>-0.503198</td>\n",
       "      <td>1.800499</td>\n",
       "      <td>0.791461</td>\n",
       "      <td>0.247676</td>\n",
       "      <td>-1.514654</td>\n",
       "      <td>...</td>\n",
       "      <td>0.247998</td>\n",
       "      <td>0.771679</td>\n",
       "      <td>0.909412</td>\n",
       "      <td>-0.689281</td>\n",
       "      <td>-0.327642</td>\n",
       "      <td>-0.139097</td>\n",
       "      <td>-0.055353</td>\n",
       "      <td>-0.059752</td>\n",
       "      <td>378.66</td>\n",
       "      <td>0</td>\n",
       "    </tr>\n",
       "    <tr>\n",
       "      <th>3</th>\n",
       "      <td>1.0</td>\n",
       "      <td>-0.966272</td>\n",
       "      <td>-0.185226</td>\n",
       "      <td>1.792993</td>\n",
       "      <td>-0.863291</td>\n",
       "      <td>-0.010309</td>\n",
       "      <td>1.247203</td>\n",
       "      <td>0.237609</td>\n",
       "      <td>0.377436</td>\n",
       "      <td>-1.387024</td>\n",
       "      <td>...</td>\n",
       "      <td>-0.108300</td>\n",
       "      <td>0.005274</td>\n",
       "      <td>-0.190321</td>\n",
       "      <td>-1.175575</td>\n",
       "      <td>0.647376</td>\n",
       "      <td>-0.221929</td>\n",
       "      <td>0.062723</td>\n",
       "      <td>0.061458</td>\n",
       "      <td>123.50</td>\n",
       "      <td>0</td>\n",
       "    </tr>\n",
       "    <tr>\n",
       "      <th>4</th>\n",
       "      <td>2.0</td>\n",
       "      <td>-1.158233</td>\n",
       "      <td>0.877737</td>\n",
       "      <td>1.548718</td>\n",
       "      <td>0.403034</td>\n",
       "      <td>-0.407193</td>\n",
       "      <td>0.095921</td>\n",
       "      <td>0.592941</td>\n",
       "      <td>-0.270533</td>\n",
       "      <td>0.817739</td>\n",
       "      <td>...</td>\n",
       "      <td>-0.009431</td>\n",
       "      <td>0.798278</td>\n",
       "      <td>-0.137458</td>\n",
       "      <td>0.141267</td>\n",
       "      <td>-0.206010</td>\n",
       "      <td>0.502292</td>\n",
       "      <td>0.219422</td>\n",
       "      <td>0.215153</td>\n",
       "      <td>69.99</td>\n",
       "      <td>0</td>\n",
       "    </tr>\n",
       "  </tbody>\n",
       "</table>\n",
       "<p>5 rows × 31 columns</p>\n",
       "</div>"
      ],
      "text/plain": [
       "   Time        V1        V2        V3        V4        V5        V6        V7  \\\n",
       "0   0.0 -1.359807 -0.072781  2.536347  1.378155 -0.338321  0.462388  0.239599   \n",
       "1   0.0  1.191857  0.266151  0.166480  0.448154  0.060018 -0.082361 -0.078803   \n",
       "2   1.0 -1.358354 -1.340163  1.773209  0.379780 -0.503198  1.800499  0.791461   \n",
       "3   1.0 -0.966272 -0.185226  1.792993 -0.863291 -0.010309  1.247203  0.237609   \n",
       "4   2.0 -1.158233  0.877737  1.548718  0.403034 -0.407193  0.095921  0.592941   \n",
       "\n",
       "         V8        V9  ...       V21       V22       V23       V24       V25  \\\n",
       "0  0.098698  0.363787  ... -0.018307  0.277838 -0.110474  0.066928  0.128539   \n",
       "1  0.085102 -0.255425  ... -0.225775 -0.638672  0.101288 -0.339846  0.167170   \n",
       "2  0.247676 -1.514654  ...  0.247998  0.771679  0.909412 -0.689281 -0.327642   \n",
       "3  0.377436 -1.387024  ... -0.108300  0.005274 -0.190321 -1.175575  0.647376   \n",
       "4 -0.270533  0.817739  ... -0.009431  0.798278 -0.137458  0.141267 -0.206010   \n",
       "\n",
       "        V26       V27       V28  Amount  Class  \n",
       "0 -0.189115  0.133558 -0.021053  149.62      0  \n",
       "1  0.125895 -0.008983  0.014724    2.69      0  \n",
       "2 -0.139097 -0.055353 -0.059752  378.66      0  \n",
       "3 -0.221929  0.062723  0.061458  123.50      0  \n",
       "4  0.502292  0.219422  0.215153   69.99      0  \n",
       "\n",
       "[5 rows x 31 columns]"
      ]
     },
     "execution_count": 10,
     "metadata": {},
     "output_type": "execute_result"
    }
   ],
   "source": [
    "df.head()"
   ]
  },
  {
   "cell_type": "markdown",
   "metadata": {},
   "source": [
    "Vamos agora verificar como se comporta as variáveis \"Amount\" e \"Time\" para as fraudes e não fraudes"
   ]
  },
  {
   "cell_type": "code",
   "execution_count": 11,
   "metadata": {},
   "outputs": [],
   "source": [
    "#separando em 2 dataframes\n",
    "df_0=df[df['Class']==0]\n",
    "\n",
    "df_1=df[df['Class']==1]"
   ]
  },
  {
   "cell_type": "code",
   "execution_count": 12,
   "metadata": {},
   "outputs": [
    {
     "data": {
      "text/plain": [
       "88.29102242225574"
      ]
     },
     "execution_count": 12,
     "metadata": {},
     "output_type": "execute_result"
    }
   ],
   "source": [
    "#media de Amount para não fraude\n",
    "df_0['Amount'].mean()"
   ]
  },
  {
   "cell_type": "code",
   "execution_count": 13,
   "metadata": {},
   "outputs": [
    {
     "data": {
      "text/plain": [
       "122.21132113821133"
      ]
     },
     "execution_count": 13,
     "metadata": {},
     "output_type": "execute_result"
    }
   ],
   "source": [
    "#media de Amount para fraude\n",
    "df_1['Amount'].mean()"
   ]
  },
  {
   "cell_type": "code",
   "execution_count": 14,
   "metadata": {},
   "outputs": [
    {
     "data": {
      "text/plain": [
       "94838.20225805884"
      ]
     },
     "execution_count": 14,
     "metadata": {},
     "output_type": "execute_result"
    }
   ],
   "source": [
    "df_0['Time'].mean()"
   ]
  },
  {
   "cell_type": "code",
   "execution_count": 15,
   "metadata": {},
   "outputs": [
    {
     "data": {
      "text/plain": [
       "80746.80691056911"
      ]
     },
     "execution_count": 15,
     "metadata": {},
     "output_type": "execute_result"
    }
   ],
   "source": [
    "df_1['Time'].mean()"
   ]
  },
  {
   "cell_type": "code",
   "execution_count": 16,
   "metadata": {},
   "outputs": [
    {
     "data": {
      "text/plain": [
       "Text(0.5, 1.0, 'Time')"
      ]
     },
     "execution_count": 16,
     "metadata": {},
     "output_type": "execute_result"
    },
    {
     "data": {
      "image/png": "[encoded data removed]",
      "text/plain": [
       "<Figure size 1080x360 with 2 Axes>"
      ]
     },
     "metadata": {
      "needs_background": "light"
     },
     "output_type": "display_data"
    }
   ],
   "source": [
    "fig, axes=plt.subplots(1,2,figsize=(15,5))\n",
    "\n",
    "sns.distplot(df_0['Amount'],ax=axes[0],color='r',bins=50)\n",
    "\n",
    "axes[0].set_title('Amount',fontsize=20)\n",
    "\n",
    "sns.distplot(df_0['Time'],ax=axes[1],color='b',bins=50)\n",
    "\n",
    "axes[1].set_title('Time',fontsize=20)\n",
    "    \n",
    "\n",
    "\n",
    "\n"
   ]
  },
  {
   "cell_type": "code",
   "execution_count": 17,
   "metadata": {},
   "outputs": [
    {
     "data": {
      "text/plain": [
       "Text(0.5, 1.0, 'Time')"
      ]
     },
     "execution_count": 17,
     "metadata": {},
     "output_type": "execute_result"
    },
    {
     "data": {
      "image/png": "[encoded data removed]",
      "text/plain": [
       "<Figure size 1080x360 with 2 Axes>"
      ]
     },
     "metadata": {
      "needs_background": "light"
     },
     "output_type": "display_data"
    }
   ],
   "source": [
    "fig, axes=plt.subplots(1,2,figsize=(15,5))\n",
    "\n",
    "sns.distplot(df_1['Amount'],ax=axes[0],color='r',bins=50)\n",
    "\n",
    "axes[0].set_title('Amount',fontsize=20)\n",
    "\n",
    "sns.distplot(df_1['Time'],ax=axes[1],color='b',bins=50)\n",
    "\n",
    "axes[1].set_title('Time',fontsize=20)\n",
    "    \n",
    "\n",
    "\n",
    "\n"
   ]
  },
  {
   "cell_type": "code",
   "execution_count": 18,
   "metadata": {},
   "outputs": [
    {
     "data": {
      "text/plain": [
       "Text(0.5, 1.0, 'Time')"
      ]
     },
     "execution_count": 18,
     "metadata": {},
     "output_type": "execute_result"
    },
    {
     "data": {
      "image/png": "[encoded data removed]",
      "text/plain": [
       "<Figure size 1080x360 with 2 Axes>"
      ]
     },
     "metadata": {
      "needs_background": "light"
     },
     "output_type": "display_data"
    }
   ],
   "source": [
    "fig, axes=plt.subplots(1,2,figsize=(15,5))\n",
    "sns.boxplot(data=df,x='Class',y='Amount',ax=axes[0])\n",
    "axes[0].set_title('Amount',fontsize=20)\n",
    "\n",
    "sns.boxplot(data=df,x='Class',y='Time',ax=axes[1])\n",
    "axes[1].set_title('Time',fontsize=20)"
   ]
  },
  {
   "cell_type": "markdown",
   "metadata": {},
   "source": [
    "As médias e distribuições das variáveis \"Time\" e \"Amount\" são um pouco diferentes para fraudes e não fraudes. "
   ]
  },
  {
   "cell_type": "markdown",
   "metadata": {},
   "source": [
    "Vamos agora balancear os dados para que possa analisar melhor como as variáveis se relacionam com os casos de fraude"
   ]
  },
  {
   "cell_type": "code",
   "execution_count": 19,
   "metadata": {},
   "outputs": [],
   "source": [
    "#embaralha os dados \n",
    "df_random = df.sample(frac=1)"
   ]
  },
  {
   "cell_type": "code",
   "execution_count": 20,
   "metadata": {},
   "outputs": [
    {
     "data": {
      "text/html": [
       "<div>\n",
       "<style scoped>\n",
       "    .dataframe tbody tr th:only-of-type {\n",
       "        vertical-align: middle;\n",
       "    }\n",
       "\n",
       "    .dataframe tbody tr th {\n",
       "        vertical-align: top;\n",
       "    }\n",
       "\n",
       "    .dataframe thead th {\n",
       "        text-align: right;\n",
       "    }\n",
       "</style>\n",
       "<table border=\"1\" class=\"dataframe\">\n",
       "  <thead>\n",
       "    <tr style=\"text-align: right;\">\n",
       "      <th></th>\n",
       "      <th>Time</th>\n",
       "      <th>V1</th>\n",
       "      <th>V2</th>\n",
       "      <th>V3</th>\n",
       "      <th>V4</th>\n",
       "      <th>V5</th>\n",
       "      <th>V6</th>\n",
       "      <th>V7</th>\n",
       "      <th>V8</th>\n",
       "      <th>V9</th>\n",
       "      <th>...</th>\n",
       "      <th>V21</th>\n",
       "      <th>V22</th>\n",
       "      <th>V23</th>\n",
       "      <th>V24</th>\n",
       "      <th>V25</th>\n",
       "      <th>V26</th>\n",
       "      <th>V27</th>\n",
       "      <th>V28</th>\n",
       "      <th>Amount</th>\n",
       "      <th>Class</th>\n",
       "    </tr>\n",
       "  </thead>\n",
       "  <tbody>\n",
       "    <tr>\n",
       "      <th>14338</th>\n",
       "      <td>25426.0</td>\n",
       "      <td>1.125336</td>\n",
       "      <td>1.130146</td>\n",
       "      <td>-0.962975</td>\n",
       "      <td>2.675688</td>\n",
       "      <td>0.990075</td>\n",
       "      <td>-0.243318</td>\n",
       "      <td>0.316192</td>\n",
       "      <td>0.122960</td>\n",
       "      <td>-1.143343</td>\n",
       "      <td>...</td>\n",
       "      <td>-0.166737</td>\n",
       "      <td>-0.521934</td>\n",
       "      <td>-0.112376</td>\n",
       "      <td>-0.592077</td>\n",
       "      <td>0.520791</td>\n",
       "      <td>0.043354</td>\n",
       "      <td>0.015159</td>\n",
       "      <td>0.063612</td>\n",
       "      <td>3.76</td>\n",
       "      <td>1</td>\n",
       "    </tr>\n",
       "    <tr>\n",
       "      <th>229712</th>\n",
       "      <td>146022.0</td>\n",
       "      <td>0.908637</td>\n",
       "      <td>2.849024</td>\n",
       "      <td>-5.647343</td>\n",
       "      <td>6.009415</td>\n",
       "      <td>0.216656</td>\n",
       "      <td>-2.397014</td>\n",
       "      <td>-1.819308</td>\n",
       "      <td>0.338527</td>\n",
       "      <td>-2.819883</td>\n",
       "      <td>...</td>\n",
       "      <td>0.407260</td>\n",
       "      <td>-0.397435</td>\n",
       "      <td>-0.080006</td>\n",
       "      <td>-0.168597</td>\n",
       "      <td>0.465058</td>\n",
       "      <td>0.210510</td>\n",
       "      <td>0.648705</td>\n",
       "      <td>0.360224</td>\n",
       "      <td>1.18</td>\n",
       "      <td>1</td>\n",
       "    </tr>\n",
       "    <tr>\n",
       "      <th>243547</th>\n",
       "      <td>151972.0</td>\n",
       "      <td>-6.618211</td>\n",
       "      <td>3.835943</td>\n",
       "      <td>-6.316453</td>\n",
       "      <td>1.844111</td>\n",
       "      <td>-2.476892</td>\n",
       "      <td>-1.886718</td>\n",
       "      <td>-3.817495</td>\n",
       "      <td>0.613470</td>\n",
       "      <td>-1.482121</td>\n",
       "      <td>...</td>\n",
       "      <td>1.636622</td>\n",
       "      <td>0.038727</td>\n",
       "      <td>0.278218</td>\n",
       "      <td>0.786670</td>\n",
       "      <td>0.063895</td>\n",
       "      <td>0.154707</td>\n",
       "      <td>-2.042403</td>\n",
       "      <td>1.405141</td>\n",
       "      <td>57.73</td>\n",
       "      <td>1</td>\n",
       "    </tr>\n",
       "    <tr>\n",
       "      <th>141258</th>\n",
       "      <td>84204.0</td>\n",
       "      <td>-0.937843</td>\n",
       "      <td>3.462889</td>\n",
       "      <td>-6.445104</td>\n",
       "      <td>4.932199</td>\n",
       "      <td>-2.233983</td>\n",
       "      <td>-2.291561</td>\n",
       "      <td>-5.695594</td>\n",
       "      <td>1.338825</td>\n",
       "      <td>-4.322377</td>\n",
       "      <td>...</td>\n",
       "      <td>1.066550</td>\n",
       "      <td>-0.521657</td>\n",
       "      <td>-0.319917</td>\n",
       "      <td>-0.405859</td>\n",
       "      <td>0.906802</td>\n",
       "      <td>1.165784</td>\n",
       "      <td>1.374495</td>\n",
       "      <td>0.729889</td>\n",
       "      <td>0.00</td>\n",
       "      <td>1</td>\n",
       "    </tr>\n",
       "    <tr>\n",
       "      <th>243749</th>\n",
       "      <td>152058.0</td>\n",
       "      <td>-3.576362</td>\n",
       "      <td>3.299436</td>\n",
       "      <td>-7.460433</td>\n",
       "      <td>7.783634</td>\n",
       "      <td>-0.398549</td>\n",
       "      <td>-1.968441</td>\n",
       "      <td>-3.110476</td>\n",
       "      <td>-0.328404</td>\n",
       "      <td>-1.574363</td>\n",
       "      <td>...</td>\n",
       "      <td>0.540731</td>\n",
       "      <td>0.719526</td>\n",
       "      <td>0.379249</td>\n",
       "      <td>-0.616962</td>\n",
       "      <td>-0.442811</td>\n",
       "      <td>0.359841</td>\n",
       "      <td>-2.651825</td>\n",
       "      <td>0.422184</td>\n",
       "      <td>1.00</td>\n",
       "      <td>1</td>\n",
       "    </tr>\n",
       "    <tr>\n",
       "      <th>...</th>\n",
       "      <td>...</td>\n",
       "      <td>...</td>\n",
       "      <td>...</td>\n",
       "      <td>...</td>\n",
       "      <td>...</td>\n",
       "      <td>...</td>\n",
       "      <td>...</td>\n",
       "      <td>...</td>\n",
       "      <td>...</td>\n",
       "      <td>...</td>\n",
       "      <td>...</td>\n",
       "      <td>...</td>\n",
       "      <td>...</td>\n",
       "      <td>...</td>\n",
       "      <td>...</td>\n",
       "      <td>...</td>\n",
       "      <td>...</td>\n",
       "      <td>...</td>\n",
       "      <td>...</td>\n",
       "      <td>...</td>\n",
       "      <td>...</td>\n",
       "    </tr>\n",
       "    <tr>\n",
       "      <th>191267</th>\n",
       "      <td>129186.0</td>\n",
       "      <td>0.290155</td>\n",
       "      <td>0.049243</td>\n",
       "      <td>-0.740524</td>\n",
       "      <td>2.865463</td>\n",
       "      <td>1.395294</td>\n",
       "      <td>-0.535163</td>\n",
       "      <td>0.142543</td>\n",
       "      <td>-0.222770</td>\n",
       "      <td>-1.463691</td>\n",
       "      <td>...</td>\n",
       "      <td>0.337349</td>\n",
       "      <td>1.018191</td>\n",
       "      <td>0.303550</td>\n",
       "      <td>0.833886</td>\n",
       "      <td>-1.222306</td>\n",
       "      <td>2.745261</td>\n",
       "      <td>-0.220402</td>\n",
       "      <td>0.168233</td>\n",
       "      <td>7.18</td>\n",
       "      <td>1</td>\n",
       "    </tr>\n",
       "    <tr>\n",
       "      <th>153835</th>\n",
       "      <td>100298.0</td>\n",
       "      <td>-22.341889</td>\n",
       "      <td>15.536133</td>\n",
       "      <td>-22.865228</td>\n",
       "      <td>7.043374</td>\n",
       "      <td>-14.183129</td>\n",
       "      <td>-0.463145</td>\n",
       "      <td>-28.215112</td>\n",
       "      <td>-14.607791</td>\n",
       "      <td>-9.481456</td>\n",
       "      <td>...</td>\n",
       "      <td>-9.110423</td>\n",
       "      <td>4.158895</td>\n",
       "      <td>1.412928</td>\n",
       "      <td>0.382801</td>\n",
       "      <td>0.447154</td>\n",
       "      <td>-0.632816</td>\n",
       "      <td>-4.380154</td>\n",
       "      <td>-0.467863</td>\n",
       "      <td>1.00</td>\n",
       "      <td>1</td>\n",
       "    </tr>\n",
       "    <tr>\n",
       "      <th>141259</th>\n",
       "      <td>84204.0</td>\n",
       "      <td>-1.927453</td>\n",
       "      <td>1.827621</td>\n",
       "      <td>-7.019495</td>\n",
       "      <td>5.348303</td>\n",
       "      <td>-2.739188</td>\n",
       "      <td>-2.107219</td>\n",
       "      <td>-5.015848</td>\n",
       "      <td>1.205868</td>\n",
       "      <td>-4.382713</td>\n",
       "      <td>...</td>\n",
       "      <td>1.376938</td>\n",
       "      <td>-0.792017</td>\n",
       "      <td>-0.771414</td>\n",
       "      <td>-0.379574</td>\n",
       "      <td>0.718717</td>\n",
       "      <td>1.111151</td>\n",
       "      <td>1.277707</td>\n",
       "      <td>0.819081</td>\n",
       "      <td>512.25</td>\n",
       "      <td>1</td>\n",
       "    </tr>\n",
       "    <tr>\n",
       "      <th>149357</th>\n",
       "      <td>91075.0</td>\n",
       "      <td>-1.855061</td>\n",
       "      <td>1.554964</td>\n",
       "      <td>-1.405809</td>\n",
       "      <td>0.669327</td>\n",
       "      <td>-0.280230</td>\n",
       "      <td>1.178652</td>\n",
       "      <td>-3.459979</td>\n",
       "      <td>-2.815155</td>\n",
       "      <td>1.242229</td>\n",
       "      <td>...</td>\n",
       "      <td>-0.095308</td>\n",
       "      <td>0.946629</td>\n",
       "      <td>-0.297403</td>\n",
       "      <td>-0.368344</td>\n",
       "      <td>0.198731</td>\n",
       "      <td>-0.078591</td>\n",
       "      <td>0.366709</td>\n",
       "      <td>0.073767</td>\n",
       "      <td>38.76</td>\n",
       "      <td>1</td>\n",
       "    </tr>\n",
       "    <tr>\n",
       "      <th>27627</th>\n",
       "      <td>34634.0</td>\n",
       "      <td>0.333499</td>\n",
       "      <td>1.699873</td>\n",
       "      <td>-2.596561</td>\n",
       "      <td>3.643945</td>\n",
       "      <td>-0.585068</td>\n",
       "      <td>-0.654659</td>\n",
       "      <td>-2.275789</td>\n",
       "      <td>0.675229</td>\n",
       "      <td>-2.042416</td>\n",
       "      <td>...</td>\n",
       "      <td>0.469212</td>\n",
       "      <td>-0.144363</td>\n",
       "      <td>-0.317981</td>\n",
       "      <td>-0.769644</td>\n",
       "      <td>0.807855</td>\n",
       "      <td>0.228164</td>\n",
       "      <td>0.551002</td>\n",
       "      <td>0.305473</td>\n",
       "      <td>18.96</td>\n",
       "      <td>1</td>\n",
       "    </tr>\n",
       "  </tbody>\n",
       "</table>\n",
       "<p>492 rows × 31 columns</p>\n",
       "</div>"
      ],
      "text/plain": [
       "            Time         V1         V2         V3        V4         V5  \\\n",
       "14338    25426.0   1.125336   1.130146  -0.962975  2.675688   0.990075   \n",
       "229712  146022.0   0.908637   2.849024  -5.647343  6.009415   0.216656   \n",
       "243547  151972.0  -6.618211   3.835943  -6.316453  1.844111  -2.476892   \n",
       "141258   84204.0  -0.937843   3.462889  -6.445104  4.932199  -2.233983   \n",
       "243749  152058.0  -3.576362   3.299436  -7.460433  7.783634  -0.398549   \n",
       "...          ...        ...        ...        ...       ...        ...   \n",
       "191267  129186.0   0.290155   0.049243  -0.740524  2.865463   1.395294   \n",
       "153835  100298.0 -22.341889  15.536133 -22.865228  7.043374 -14.183129   \n",
       "141259   84204.0  -1.927453   1.827621  -7.019495  5.348303  -2.739188   \n",
       "149357   91075.0  -1.855061   1.554964  -1.405809  0.669327  -0.280230   \n",
       "27627    34634.0   0.333499   1.699873  -2.596561  3.643945  -0.585068   \n",
       "\n",
       "              V6         V7         V8        V9  ...       V21       V22  \\\n",
       "14338  -0.243318   0.316192   0.122960 -1.143343  ... -0.166737 -0.521934   \n",
       "229712 -2.397014  -1.819308   0.338527 -2.819883  ...  0.407260 -0.397435   \n",
       "243547 -1.886718  -3.817495   0.613470 -1.482121  ...  1.636622  0.038727   \n",
       "141258 -2.291561  -5.695594   1.338825 -4.322377  ...  1.066550 -0.521657   \n",
       "243749 -1.968441  -3.110476  -0.328404 -1.574363  ...  0.540731  0.719526   \n",
       "...          ...        ...        ...       ...  ...       ...       ...   \n",
       "191267 -0.535163   0.142543  -0.222770 -1.463691  ...  0.337349  1.018191   \n",
       "153835 -0.463145 -28.215112 -14.607791 -9.481456  ... -9.110423  4.158895   \n",
       "141259 -2.107219  -5.015848   1.205868 -4.382713  ...  1.376938 -0.792017   \n",
       "149357  1.178652  -3.459979  -2.815155  1.242229  ... -0.095308  0.946629   \n",
       "27627  -0.654659  -2.275789   0.675229 -2.042416  ...  0.469212 -0.144363   \n",
       "\n",
       "             V23       V24       V25       V26       V27       V28  Amount  \\\n",
       "14338  -0.112376 -0.592077  0.520791  0.043354  0.015159  0.063612    3.76   \n",
       "229712 -0.080006 -0.168597  0.465058  0.210510  0.648705  0.360224    1.18   \n",
       "243547  0.278218  0.786670  0.063895  0.154707 -2.042403  1.405141   57.73   \n",
       "141258 -0.319917 -0.405859  0.906802  1.165784  1.374495  0.729889    0.00   \n",
       "243749  0.379249 -0.616962 -0.442811  0.359841 -2.651825  0.422184    1.00   \n",
       "...          ...       ...       ...       ...       ...       ...     ...   \n",
       "191267  0.303550  0.833886 -1.222306  2.745261 -0.220402  0.168233    7.18   \n",
       "153835  1.412928  0.382801  0.447154 -0.632816 -4.380154 -0.467863    1.00   \n",
       "141259 -0.771414 -0.379574  0.718717  1.111151  1.277707  0.819081  512.25   \n",
       "149357 -0.297403 -0.368344  0.198731 -0.078591  0.366709  0.073767   38.76   \n",
       "27627  -0.317981 -0.769644  0.807855  0.228164  0.551002  0.305473   18.96   \n",
       "\n",
       "        Class  \n",
       "14338       1  \n",
       "229712      1  \n",
       "243547      1  \n",
       "141258      1  \n",
       "243749      1  \n",
       "...       ...  \n",
       "191267      1  \n",
       "153835      1  \n",
       "141259      1  \n",
       "149357      1  \n",
       "27627       1  \n",
       "\n",
       "[492 rows x 31 columns]"
      ]
     },
     "execution_count": 20,
     "metadata": {},
     "output_type": "execute_result"
    }
   ],
   "source": [
    "df_fraude=df_random[df_random['Class']==1]\n",
    "df_fraude"
   ]
  },
  {
   "cell_type": "code",
   "execution_count": 21,
   "metadata": {},
   "outputs": [
    {
     "data": {
      "text/html": [
       "<div>\n",
       "<style scoped>\n",
       "    .dataframe tbody tr th:only-of-type {\n",
       "        vertical-align: middle;\n",
       "    }\n",
       "\n",
       "    .dataframe tbody tr th {\n",
       "        vertical-align: top;\n",
       "    }\n",
       "\n",
       "    .dataframe thead th {\n",
       "        text-align: right;\n",
       "    }\n",
       "</style>\n",
       "<table border=\"1\" class=\"dataframe\">\n",
       "  <thead>\n",
       "    <tr style=\"text-align: right;\">\n",
       "      <th></th>\n",
       "      <th>Time</th>\n",
       "      <th>V1</th>\n",
       "      <th>V2</th>\n",
       "      <th>V3</th>\n",
       "      <th>V4</th>\n",
       "      <th>V5</th>\n",
       "      <th>V6</th>\n",
       "      <th>V7</th>\n",
       "      <th>V8</th>\n",
       "      <th>V9</th>\n",
       "      <th>...</th>\n",
       "      <th>V21</th>\n",
       "      <th>V22</th>\n",
       "      <th>V23</th>\n",
       "      <th>V24</th>\n",
       "      <th>V25</th>\n",
       "      <th>V26</th>\n",
       "      <th>V27</th>\n",
       "      <th>V28</th>\n",
       "      <th>Amount</th>\n",
       "      <th>Class</th>\n",
       "    </tr>\n",
       "  </thead>\n",
       "  <tbody>\n",
       "    <tr>\n",
       "      <th>212648</th>\n",
       "      <td>138943.0</td>\n",
       "      <td>-0.443013</td>\n",
       "      <td>1.644262</td>\n",
       "      <td>1.617412</td>\n",
       "      <td>4.508178</td>\n",
       "      <td>-0.342445</td>\n",
       "      <td>0.949778</td>\n",
       "      <td>-0.286229</td>\n",
       "      <td>0.656840</td>\n",
       "      <td>-1.617771</td>\n",
       "      <td>...</td>\n",
       "      <td>0.345042</td>\n",
       "      <td>1.198269</td>\n",
       "      <td>-0.081243</td>\n",
       "      <td>-0.045942</td>\n",
       "      <td>-0.620866</td>\n",
       "      <td>0.509352</td>\n",
       "      <td>0.377892</td>\n",
       "      <td>0.207894</td>\n",
       "      <td>19.89</td>\n",
       "      <td>0</td>\n",
       "    </tr>\n",
       "    <tr>\n",
       "      <th>43247</th>\n",
       "      <td>41432.0</td>\n",
       "      <td>-1.575409</td>\n",
       "      <td>-0.832156</td>\n",
       "      <td>1.878101</td>\n",
       "      <td>-2.493705</td>\n",
       "      <td>-0.833513</td>\n",
       "      <td>0.010800</td>\n",
       "      <td>-1.210692</td>\n",
       "      <td>0.756742</td>\n",
       "      <td>-2.626063</td>\n",
       "      <td>...</td>\n",
       "      <td>0.041491</td>\n",
       "      <td>0.139152</td>\n",
       "      <td>-0.094235</td>\n",
       "      <td>-0.306946</td>\n",
       "      <td>0.256628</td>\n",
       "      <td>-0.279728</td>\n",
       "      <td>0.216258</td>\n",
       "      <td>-0.051653</td>\n",
       "      <td>50.00</td>\n",
       "      <td>0</td>\n",
       "    </tr>\n",
       "    <tr>\n",
       "      <th>65253</th>\n",
       "      <td>51500.0</td>\n",
       "      <td>1.157498</td>\n",
       "      <td>0.246188</td>\n",
       "      <td>0.379704</td>\n",
       "      <td>0.576909</td>\n",
       "      <td>-0.246463</td>\n",
       "      <td>-0.400356</td>\n",
       "      <td>-0.107223</td>\n",
       "      <td>0.082822</td>\n",
       "      <td>-0.208214</td>\n",
       "      <td>...</td>\n",
       "      <td>-0.198253</td>\n",
       "      <td>-0.584958</td>\n",
       "      <td>0.175196</td>\n",
       "      <td>0.177340</td>\n",
       "      <td>0.078250</td>\n",
       "      <td>0.094970</td>\n",
       "      <td>-0.011548</td>\n",
       "      <td>0.018618</td>\n",
       "      <td>0.89</td>\n",
       "      <td>0</td>\n",
       "    </tr>\n",
       "    <tr>\n",
       "      <th>131034</th>\n",
       "      <td>79486.0</td>\n",
       "      <td>1.221085</td>\n",
       "      <td>0.181695</td>\n",
       "      <td>0.206761</td>\n",
       "      <td>0.012758</td>\n",
       "      <td>-0.321872</td>\n",
       "      <td>-1.094403</td>\n",
       "      <td>0.291061</td>\n",
       "      <td>-0.233534</td>\n",
       "      <td>-0.465226</td>\n",
       "      <td>...</td>\n",
       "      <td>-0.362359</td>\n",
       "      <td>-1.121047</td>\n",
       "      <td>0.201364</td>\n",
       "      <td>0.566153</td>\n",
       "      <td>0.065789</td>\n",
       "      <td>0.588570</td>\n",
       "      <td>-0.101419</td>\n",
       "      <td>-0.000677</td>\n",
       "      <td>18.94</td>\n",
       "      <td>0</td>\n",
       "    </tr>\n",
       "    <tr>\n",
       "      <th>17012</th>\n",
       "      <td>28362.0</td>\n",
       "      <td>-3.933943</td>\n",
       "      <td>0.724052</td>\n",
       "      <td>1.607258</td>\n",
       "      <td>1.113176</td>\n",
       "      <td>-0.742031</td>\n",
       "      <td>2.597860</td>\n",
       "      <td>-0.676630</td>\n",
       "      <td>-4.939324</td>\n",
       "      <td>1.008837</td>\n",
       "      <td>...</td>\n",
       "      <td>0.187439</td>\n",
       "      <td>0.964716</td>\n",
       "      <td>-0.058422</td>\n",
       "      <td>-0.259204</td>\n",
       "      <td>-0.060946</td>\n",
       "      <td>-0.239245</td>\n",
       "      <td>-2.058525</td>\n",
       "      <td>0.571610</td>\n",
       "      <td>182.40</td>\n",
       "      <td>0</td>\n",
       "    </tr>\n",
       "    <tr>\n",
       "      <th>...</th>\n",
       "      <td>...</td>\n",
       "      <td>...</td>\n",
       "      <td>...</td>\n",
       "      <td>...</td>\n",
       "      <td>...</td>\n",
       "      <td>...</td>\n",
       "      <td>...</td>\n",
       "      <td>...</td>\n",
       "      <td>...</td>\n",
       "      <td>...</td>\n",
       "      <td>...</td>\n",
       "      <td>...</td>\n",
       "      <td>...</td>\n",
       "      <td>...</td>\n",
       "      <td>...</td>\n",
       "      <td>...</td>\n",
       "      <td>...</td>\n",
       "      <td>...</td>\n",
       "      <td>...</td>\n",
       "      <td>...</td>\n",
       "      <td>...</td>\n",
       "    </tr>\n",
       "    <tr>\n",
       "      <th>181654</th>\n",
       "      <td>125067.0</td>\n",
       "      <td>1.986611</td>\n",
       "      <td>-0.584883</td>\n",
       "      <td>-1.782703</td>\n",
       "      <td>0.549666</td>\n",
       "      <td>0.096854</td>\n",
       "      <td>-0.371031</td>\n",
       "      <td>0.087008</td>\n",
       "      <td>-0.155062</td>\n",
       "      <td>-0.987729</td>\n",
       "      <td>...</td>\n",
       "      <td>-0.238495</td>\n",
       "      <td>-0.249578</td>\n",
       "      <td>0.064509</td>\n",
       "      <td>0.642459</td>\n",
       "      <td>0.278236</td>\n",
       "      <td>-0.544417</td>\n",
       "      <td>-0.015199</td>\n",
       "      <td>-0.051534</td>\n",
       "      <td>69.97</td>\n",
       "      <td>0</td>\n",
       "    </tr>\n",
       "    <tr>\n",
       "      <th>104643</th>\n",
       "      <td>69164.0</td>\n",
       "      <td>-2.390858</td>\n",
       "      <td>1.473961</td>\n",
       "      <td>0.847362</td>\n",
       "      <td>-0.194439</td>\n",
       "      <td>-0.589593</td>\n",
       "      <td>2.419291</td>\n",
       "      <td>-0.923534</td>\n",
       "      <td>1.974842</td>\n",
       "      <td>-0.136304</td>\n",
       "      <td>...</td>\n",
       "      <td>0.074414</td>\n",
       "      <td>0.395559</td>\n",
       "      <td>-0.127512</td>\n",
       "      <td>-1.728104</td>\n",
       "      <td>0.174920</td>\n",
       "      <td>0.544805</td>\n",
       "      <td>0.059869</td>\n",
       "      <td>-0.084331</td>\n",
       "      <td>89.40</td>\n",
       "      <td>0</td>\n",
       "    </tr>\n",
       "    <tr>\n",
       "      <th>119042</th>\n",
       "      <td>75309.0</td>\n",
       "      <td>1.508368</td>\n",
       "      <td>-1.072074</td>\n",
       "      <td>0.825142</td>\n",
       "      <td>-1.315600</td>\n",
       "      <td>-1.860102</td>\n",
       "      <td>-0.819573</td>\n",
       "      <td>-1.272799</td>\n",
       "      <td>-0.129711</td>\n",
       "      <td>-1.564684</td>\n",
       "      <td>...</td>\n",
       "      <td>-0.065878</td>\n",
       "      <td>0.228266</td>\n",
       "      <td>0.006438</td>\n",
       "      <td>0.371739</td>\n",
       "      <td>0.335230</td>\n",
       "      <td>-0.101951</td>\n",
       "      <td>0.051646</td>\n",
       "      <td>0.025906</td>\n",
       "      <td>7.00</td>\n",
       "      <td>0</td>\n",
       "    </tr>\n",
       "    <tr>\n",
       "      <th>237</th>\n",
       "      <td>158.0</td>\n",
       "      <td>-0.600816</td>\n",
       "      <td>0.922455</td>\n",
       "      <td>-0.135952</td>\n",
       "      <td>-1.259915</td>\n",
       "      <td>2.439824</td>\n",
       "      <td>3.330205</td>\n",
       "      <td>0.087107</td>\n",
       "      <td>0.949659</td>\n",
       "      <td>-0.327932</td>\n",
       "      <td>...</td>\n",
       "      <td>-0.311489</td>\n",
       "      <td>-0.927233</td>\n",
       "      <td>-0.045268</td>\n",
       "      <td>0.979587</td>\n",
       "      <td>0.016423</td>\n",
       "      <td>0.091043</td>\n",
       "      <td>0.371280</td>\n",
       "      <td>0.180187</td>\n",
       "      <td>1.79</td>\n",
       "      <td>0</td>\n",
       "    </tr>\n",
       "    <tr>\n",
       "      <th>41832</th>\n",
       "      <td>40848.0</td>\n",
       "      <td>-0.497670</td>\n",
       "      <td>0.874658</td>\n",
       "      <td>0.803462</td>\n",
       "      <td>0.252180</td>\n",
       "      <td>-0.565307</td>\n",
       "      <td>-0.799627</td>\n",
       "      <td>0.434188</td>\n",
       "      <td>0.345321</td>\n",
       "      <td>-0.571382</td>\n",
       "      <td>...</td>\n",
       "      <td>0.344044</td>\n",
       "      <td>0.821732</td>\n",
       "      <td>0.122176</td>\n",
       "      <td>0.640407</td>\n",
       "      <td>-0.298421</td>\n",
       "      <td>0.396672</td>\n",
       "      <td>-0.113165</td>\n",
       "      <td>-0.027024</td>\n",
       "      <td>58.85</td>\n",
       "      <td>0</td>\n",
       "    </tr>\n",
       "  </tbody>\n",
       "</table>\n",
       "<p>492 rows × 31 columns</p>\n",
       "</div>"
      ],
      "text/plain": [
       "            Time        V1        V2        V3        V4        V5        V6  \\\n",
       "212648  138943.0 -0.443013  1.644262  1.617412  4.508178 -0.342445  0.949778   \n",
       "43247    41432.0 -1.575409 -0.832156  1.878101 -2.493705 -0.833513  0.010800   \n",
       "65253    51500.0  1.157498  0.246188  0.379704  0.576909 -0.246463 -0.400356   \n",
       "131034   79486.0  1.221085  0.181695  0.206761  0.012758 -0.321872 -1.094403   \n",
       "17012    28362.0 -3.933943  0.724052  1.607258  1.113176 -0.742031  2.597860   \n",
       "...          ...       ...       ...       ...       ...       ...       ...   \n",
       "181654  125067.0  1.986611 -0.584883 -1.782703  0.549666  0.096854 -0.371031   \n",
       "104643   69164.0 -2.390858  1.473961  0.847362 -0.194439 -0.589593  2.419291   \n",
       "119042   75309.0  1.508368 -1.072074  0.825142 -1.315600 -1.860102 -0.819573   \n",
       "237        158.0 -0.600816  0.922455 -0.135952 -1.259915  2.439824  3.330205   \n",
       "41832    40848.0 -0.497670  0.874658  0.803462  0.252180 -0.565307 -0.799627   \n",
       "\n",
       "              V7        V8        V9  ...       V21       V22       V23  \\\n",
       "212648 -0.286229  0.656840 -1.617771  ...  0.345042  1.198269 -0.081243   \n",
       "43247  -1.210692  0.756742 -2.626063  ...  0.041491  0.139152 -0.094235   \n",
       "65253  -0.107223  0.082822 -0.208214  ... -0.198253 -0.584958  0.175196   \n",
       "131034  0.291061 -0.233534 -0.465226  ... -0.362359 -1.121047  0.201364   \n",
       "17012  -0.676630 -4.939324  1.008837  ...  0.187439  0.964716 -0.058422   \n",
       "...          ...       ...       ...  ...       ...       ...       ...   \n",
       "181654  0.087008 -0.155062 -0.987729  ... -0.238495 -0.249578  0.064509   \n",
       "104643 -0.923534  1.974842 -0.136304  ...  0.074414  0.395559 -0.127512   \n",
       "119042 -1.272799 -0.129711 -1.564684  ... -0.065878  0.228266  0.006438   \n",
       "237     0.087107  0.949659 -0.327932  ... -0.311489 -0.927233 -0.045268   \n",
       "41832   0.434188  0.345321 -0.571382  ...  0.344044  0.821732  0.122176   \n",
       "\n",
       "             V24       V25       V26       V27       V28  Amount  Class  \n",
       "212648 -0.045942 -0.620866  0.509352  0.377892  0.207894   19.89      0  \n",
       "43247  -0.306946  0.256628 -0.279728  0.216258 -0.051653   50.00      0  \n",
       "65253   0.177340  0.078250  0.094970 -0.011548  0.018618    0.89      0  \n",
       "131034  0.566153  0.065789  0.588570 -0.101419 -0.000677   18.94      0  \n",
       "17012  -0.259204 -0.060946 -0.239245 -2.058525  0.571610  182.40      0  \n",
       "...          ...       ...       ...       ...       ...     ...    ...  \n",
       "181654  0.642459  0.278236 -0.544417 -0.015199 -0.051534   69.97      0  \n",
       "104643 -1.728104  0.174920  0.544805  0.059869 -0.084331   89.40      0  \n",
       "119042  0.371739  0.335230 -0.101951  0.051646  0.025906    7.00      0  \n",
       "237     0.979587  0.016423  0.091043  0.371280  0.180187    1.79      0  \n",
       "41832   0.640407 -0.298421  0.396672 -0.113165 -0.027024   58.85      0  \n",
       "\n",
       "[492 rows x 31 columns]"
      ]
     },
     "execution_count": 21,
     "metadata": {},
     "output_type": "execute_result"
    }
   ],
   "source": [
    "# Separa os casos de não fraude e trunca o número de linhas a 492 igual a quantidade de linhas dos dados de fraude\n",
    "df_nofraude=df_random.loc[df_random['Class']==0][:492]\n",
    "df_nofraude"
   ]
  },
  {
   "cell_type": "markdown",
   "metadata": {},
   "source": [
    "Analisamos novamente a distribuição das variáveis \"Time\" e \"Amount\" para os dados balanceados "
   ]
  },
  {
   "cell_type": "code",
   "execution_count": 22,
   "metadata": {},
   "outputs": [
    {
     "data": {
      "text/plain": [
       "Text(0.5, 1.0, 'Time')"
      ]
     },
     "execution_count": 22,
     "metadata": {},
     "output_type": "execute_result"
    },
    {
     "data": {
      "image/png": "[encoded data removed]",
      "text/plain": [
       "<Figure size 1080x360 with 2 Axes>"
      ]
     },
     "metadata": {
      "needs_background": "light"
     },
     "output_type": "display_data"
    }
   ],
   "source": [
    "fig, axes=plt.subplots(1,2,figsize=(15,5))\n",
    "\n",
    "sns.distplot(df_fraude['Amount'],ax=axes[0],color='r',bins=50)\n",
    "\n",
    "axes[0].set_title('Amount',fontsize=20)\n",
    "\n",
    "sns.distplot(df_fraude['Time'],ax=axes[1],color='b',bins=50)\n",
    "\n",
    "axes[1].set_title('Time',fontsize=20)\n",
    "    "
   ]
  },
  {
   "cell_type": "code",
   "execution_count": 23,
   "metadata": {},
   "outputs": [
    {
     "data": {
      "text/plain": [
       "Text(0.5, 1.0, 'Time')"
      ]
     },
     "execution_count": 23,
     "metadata": {},
     "output_type": "execute_result"
    },
    {
     "data": {
      "image/png": "[encoded data removed]",
      "text/plain": [
       "<Figure size 1080x360 with 2 Axes>"
      ]
     },
     "metadata": {
      "needs_background": "light"
     },
     "output_type": "display_data"
    }
   ],
   "source": [
    "fig, axes=plt.subplots(1,2,figsize=(15,5))\n",
    "\n",
    "sns.distplot(df_nofraude['Amount'],ax=axes[0],color='r',bins=50)\n",
    "\n",
    "axes[0].set_title('Amount',fontsize=20)\n",
    "\n",
    "sns.distplot(df_nofraude['Time'],ax=axes[1],color='b',bins=50)\n",
    "\n",
    "axes[1].set_title('Time',fontsize=20)"
   ]
  },
  {
   "cell_type": "markdown",
   "metadata": {},
   "source": [
    "Vamos agora juntar os dados de não frade e fraude em um único dataframe"
   ]
  },
  {
   "cell_type": "code",
   "execution_count": 24,
   "metadata": {},
   "outputs": [],
   "source": [
    "df_final = pd.concat([df_fraude,df_nofraude])"
   ]
  },
  {
   "cell_type": "code",
   "execution_count": 25,
   "metadata": {},
   "outputs": [
    {
     "data": {
      "text/html": [
       "<div>\n",
       "<style scoped>\n",
       "    .dataframe tbody tr th:only-of-type {\n",
       "        vertical-align: middle;\n",
       "    }\n",
       "\n",
       "    .dataframe tbody tr th {\n",
       "        vertical-align: top;\n",
       "    }\n",
       "\n",
       "    .dataframe thead th {\n",
       "        text-align: right;\n",
       "    }\n",
       "</style>\n",
       "<table border=\"1\" class=\"dataframe\">\n",
       "  <thead>\n",
       "    <tr style=\"text-align: right;\">\n",
       "      <th></th>\n",
       "      <th>Time</th>\n",
       "      <th>V1</th>\n",
       "      <th>V2</th>\n",
       "      <th>V3</th>\n",
       "      <th>V4</th>\n",
       "      <th>V5</th>\n",
       "      <th>V6</th>\n",
       "      <th>V7</th>\n",
       "      <th>V8</th>\n",
       "      <th>V9</th>\n",
       "      <th>...</th>\n",
       "      <th>V21</th>\n",
       "      <th>V22</th>\n",
       "      <th>V23</th>\n",
       "      <th>V24</th>\n",
       "      <th>V25</th>\n",
       "      <th>V26</th>\n",
       "      <th>V27</th>\n",
       "      <th>V28</th>\n",
       "      <th>Amount</th>\n",
       "      <th>Class</th>\n",
       "    </tr>\n",
       "  </thead>\n",
       "  <tbody>\n",
       "    <tr>\n",
       "      <th>14338</th>\n",
       "      <td>25426.0</td>\n",
       "      <td>1.125336</td>\n",
       "      <td>1.130146</td>\n",
       "      <td>-0.962975</td>\n",
       "      <td>2.675688</td>\n",
       "      <td>0.990075</td>\n",
       "      <td>-0.243318</td>\n",
       "      <td>0.316192</td>\n",
       "      <td>0.122960</td>\n",
       "      <td>-1.143343</td>\n",
       "      <td>...</td>\n",
       "      <td>-0.166737</td>\n",
       "      <td>-0.521934</td>\n",
       "      <td>-0.112376</td>\n",
       "      <td>-0.592077</td>\n",
       "      <td>0.520791</td>\n",
       "      <td>0.043354</td>\n",
       "      <td>0.015159</td>\n",
       "      <td>0.063612</td>\n",
       "      <td>3.76</td>\n",
       "      <td>1</td>\n",
       "    </tr>\n",
       "    <tr>\n",
       "      <th>229712</th>\n",
       "      <td>146022.0</td>\n",
       "      <td>0.908637</td>\n",
       "      <td>2.849024</td>\n",
       "      <td>-5.647343</td>\n",
       "      <td>6.009415</td>\n",
       "      <td>0.216656</td>\n",
       "      <td>-2.397014</td>\n",
       "      <td>-1.819308</td>\n",
       "      <td>0.338527</td>\n",
       "      <td>-2.819883</td>\n",
       "      <td>...</td>\n",
       "      <td>0.407260</td>\n",
       "      <td>-0.397435</td>\n",
       "      <td>-0.080006</td>\n",
       "      <td>-0.168597</td>\n",
       "      <td>0.465058</td>\n",
       "      <td>0.210510</td>\n",
       "      <td>0.648705</td>\n",
       "      <td>0.360224</td>\n",
       "      <td>1.18</td>\n",
       "      <td>1</td>\n",
       "    </tr>\n",
       "    <tr>\n",
       "      <th>243547</th>\n",
       "      <td>151972.0</td>\n",
       "      <td>-6.618211</td>\n",
       "      <td>3.835943</td>\n",
       "      <td>-6.316453</td>\n",
       "      <td>1.844111</td>\n",
       "      <td>-2.476892</td>\n",
       "      <td>-1.886718</td>\n",
       "      <td>-3.817495</td>\n",
       "      <td>0.613470</td>\n",
       "      <td>-1.482121</td>\n",
       "      <td>...</td>\n",
       "      <td>1.636622</td>\n",
       "      <td>0.038727</td>\n",
       "      <td>0.278218</td>\n",
       "      <td>0.786670</td>\n",
       "      <td>0.063895</td>\n",
       "      <td>0.154707</td>\n",
       "      <td>-2.042403</td>\n",
       "      <td>1.405141</td>\n",
       "      <td>57.73</td>\n",
       "      <td>1</td>\n",
       "    </tr>\n",
       "    <tr>\n",
       "      <th>141258</th>\n",
       "      <td>84204.0</td>\n",
       "      <td>-0.937843</td>\n",
       "      <td>3.462889</td>\n",
       "      <td>-6.445104</td>\n",
       "      <td>4.932199</td>\n",
       "      <td>-2.233983</td>\n",
       "      <td>-2.291561</td>\n",
       "      <td>-5.695594</td>\n",
       "      <td>1.338825</td>\n",
       "      <td>-4.322377</td>\n",
       "      <td>...</td>\n",
       "      <td>1.066550</td>\n",
       "      <td>-0.521657</td>\n",
       "      <td>-0.319917</td>\n",
       "      <td>-0.405859</td>\n",
       "      <td>0.906802</td>\n",
       "      <td>1.165784</td>\n",
       "      <td>1.374495</td>\n",
       "      <td>0.729889</td>\n",
       "      <td>0.00</td>\n",
       "      <td>1</td>\n",
       "    </tr>\n",
       "    <tr>\n",
       "      <th>243749</th>\n",
       "      <td>152058.0</td>\n",
       "      <td>-3.576362</td>\n",
       "      <td>3.299436</td>\n",
       "      <td>-7.460433</td>\n",
       "      <td>7.783634</td>\n",
       "      <td>-0.398549</td>\n",
       "      <td>-1.968441</td>\n",
       "      <td>-3.110476</td>\n",
       "      <td>-0.328404</td>\n",
       "      <td>-1.574363</td>\n",
       "      <td>...</td>\n",
       "      <td>0.540731</td>\n",
       "      <td>0.719526</td>\n",
       "      <td>0.379249</td>\n",
       "      <td>-0.616962</td>\n",
       "      <td>-0.442811</td>\n",
       "      <td>0.359841</td>\n",
       "      <td>-2.651825</td>\n",
       "      <td>0.422184</td>\n",
       "      <td>1.00</td>\n",
       "      <td>1</td>\n",
       "    </tr>\n",
       "    <tr>\n",
       "      <th>...</th>\n",
       "      <td>...</td>\n",
       "      <td>...</td>\n",
       "      <td>...</td>\n",
       "      <td>...</td>\n",
       "      <td>...</td>\n",
       "      <td>...</td>\n",
       "      <td>...</td>\n",
       "      <td>...</td>\n",
       "      <td>...</td>\n",
       "      <td>...</td>\n",
       "      <td>...</td>\n",
       "      <td>...</td>\n",
       "      <td>...</td>\n",
       "      <td>...</td>\n",
       "      <td>...</td>\n",
       "      <td>...</td>\n",
       "      <td>...</td>\n",
       "      <td>...</td>\n",
       "      <td>...</td>\n",
       "      <td>...</td>\n",
       "      <td>...</td>\n",
       "    </tr>\n",
       "    <tr>\n",
       "      <th>181654</th>\n",
       "      <td>125067.0</td>\n",
       "      <td>1.986611</td>\n",
       "      <td>-0.584883</td>\n",
       "      <td>-1.782703</td>\n",
       "      <td>0.549666</td>\n",
       "      <td>0.096854</td>\n",
       "      <td>-0.371031</td>\n",
       "      <td>0.087008</td>\n",
       "      <td>-0.155062</td>\n",
       "      <td>-0.987729</td>\n",
       "      <td>...</td>\n",
       "      <td>-0.238495</td>\n",
       "      <td>-0.249578</td>\n",
       "      <td>0.064509</td>\n",
       "      <td>0.642459</td>\n",
       "      <td>0.278236</td>\n",
       "      <td>-0.544417</td>\n",
       "      <td>-0.015199</td>\n",
       "      <td>-0.051534</td>\n",
       "      <td>69.97</td>\n",
       "      <td>0</td>\n",
       "    </tr>\n",
       "    <tr>\n",
       "      <th>104643</th>\n",
       "      <td>69164.0</td>\n",
       "      <td>-2.390858</td>\n",
       "      <td>1.473961</td>\n",
       "      <td>0.847362</td>\n",
       "      <td>-0.194439</td>\n",
       "      <td>-0.589593</td>\n",
       "      <td>2.419291</td>\n",
       "      <td>-0.923534</td>\n",
       "      <td>1.974842</td>\n",
       "      <td>-0.136304</td>\n",
       "      <td>...</td>\n",
       "      <td>0.074414</td>\n",
       "      <td>0.395559</td>\n",
       "      <td>-0.127512</td>\n",
       "      <td>-1.728104</td>\n",
       "      <td>0.174920</td>\n",
       "      <td>0.544805</td>\n",
       "      <td>0.059869</td>\n",
       "      <td>-0.084331</td>\n",
       "      <td>89.40</td>\n",
       "      <td>0</td>\n",
       "    </tr>\n",
       "    <tr>\n",
       "      <th>119042</th>\n",
       "      <td>75309.0</td>\n",
       "      <td>1.508368</td>\n",
       "      <td>-1.072074</td>\n",
       "      <td>0.825142</td>\n",
       "      <td>-1.315600</td>\n",
       "      <td>-1.860102</td>\n",
       "      <td>-0.819573</td>\n",
       "      <td>-1.272799</td>\n",
       "      <td>-0.129711</td>\n",
       "      <td>-1.564684</td>\n",
       "      <td>...</td>\n",
       "      <td>-0.065878</td>\n",
       "      <td>0.228266</td>\n",
       "      <td>0.006438</td>\n",
       "      <td>0.371739</td>\n",
       "      <td>0.335230</td>\n",
       "      <td>-0.101951</td>\n",
       "      <td>0.051646</td>\n",
       "      <td>0.025906</td>\n",
       "      <td>7.00</td>\n",
       "      <td>0</td>\n",
       "    </tr>\n",
       "    <tr>\n",
       "      <th>237</th>\n",
       "      <td>158.0</td>\n",
       "      <td>-0.600816</td>\n",
       "      <td>0.922455</td>\n",
       "      <td>-0.135952</td>\n",
       "      <td>-1.259915</td>\n",
       "      <td>2.439824</td>\n",
       "      <td>3.330205</td>\n",
       "      <td>0.087107</td>\n",
       "      <td>0.949659</td>\n",
       "      <td>-0.327932</td>\n",
       "      <td>...</td>\n",
       "      <td>-0.311489</td>\n",
       "      <td>-0.927233</td>\n",
       "      <td>-0.045268</td>\n",
       "      <td>0.979587</td>\n",
       "      <td>0.016423</td>\n",
       "      <td>0.091043</td>\n",
       "      <td>0.371280</td>\n",
       "      <td>0.180187</td>\n",
       "      <td>1.79</td>\n",
       "      <td>0</td>\n",
       "    </tr>\n",
       "    <tr>\n",
       "      <th>41832</th>\n",
       "      <td>40848.0</td>\n",
       "      <td>-0.497670</td>\n",
       "      <td>0.874658</td>\n",
       "      <td>0.803462</td>\n",
       "      <td>0.252180</td>\n",
       "      <td>-0.565307</td>\n",
       "      <td>-0.799627</td>\n",
       "      <td>0.434188</td>\n",
       "      <td>0.345321</td>\n",
       "      <td>-0.571382</td>\n",
       "      <td>...</td>\n",
       "      <td>0.344044</td>\n",
       "      <td>0.821732</td>\n",
       "      <td>0.122176</td>\n",
       "      <td>0.640407</td>\n",
       "      <td>-0.298421</td>\n",
       "      <td>0.396672</td>\n",
       "      <td>-0.113165</td>\n",
       "      <td>-0.027024</td>\n",
       "      <td>58.85</td>\n",
       "      <td>0</td>\n",
       "    </tr>\n",
       "  </tbody>\n",
       "</table>\n",
       "<p>984 rows × 31 columns</p>\n",
       "</div>"
      ],
      "text/plain": [
       "            Time        V1        V2        V3        V4        V5        V6  \\\n",
       "14338    25426.0  1.125336  1.130146 -0.962975  2.675688  0.990075 -0.243318   \n",
       "229712  146022.0  0.908637  2.849024 -5.647343  6.009415  0.216656 -2.397014   \n",
       "243547  151972.0 -6.618211  3.835943 -6.316453  1.844111 -2.476892 -1.886718   \n",
       "141258   84204.0 -0.937843  3.462889 -6.445104  4.932199 -2.233983 -2.291561   \n",
       "243749  152058.0 -3.576362  3.299436 -7.460433  7.783634 -0.398549 -1.968441   \n",
       "...          ...       ...       ...       ...       ...       ...       ...   \n",
       "181654  125067.0  1.986611 -0.584883 -1.782703  0.549666  0.096854 -0.371031   \n",
       "104643   69164.0 -2.390858  1.473961  0.847362 -0.194439 -0.589593  2.419291   \n",
       "119042   75309.0  1.508368 -1.072074  0.825142 -1.315600 -1.860102 -0.819573   \n",
       "237        158.0 -0.600816  0.922455 -0.135952 -1.259915  2.439824  3.330205   \n",
       "41832    40848.0 -0.497670  0.874658  0.803462  0.252180 -0.565307 -0.799627   \n",
       "\n",
       "              V7        V8        V9  ...       V21       V22       V23  \\\n",
       "14338   0.316192  0.122960 -1.143343  ... -0.166737 -0.521934 -0.112376   \n",
       "229712 -1.819308  0.338527 -2.819883  ...  0.407260 -0.397435 -0.080006   \n",
       "243547 -3.817495  0.613470 -1.482121  ...  1.636622  0.038727  0.278218   \n",
       "141258 -5.695594  1.338825 -4.322377  ...  1.066550 -0.521657 -0.319917   \n",
       "243749 -3.110476 -0.328404 -1.574363  ...  0.540731  0.719526  0.379249   \n",
       "...          ...       ...       ...  ...       ...       ...       ...   \n",
       "181654  0.087008 -0.155062 -0.987729  ... -0.238495 -0.249578  0.064509   \n",
       "104643 -0.923534  1.974842 -0.136304  ...  0.074414  0.395559 -0.127512   \n",
       "119042 -1.272799 -0.129711 -1.564684  ... -0.065878  0.228266  0.006438   \n",
       "237     0.087107  0.949659 -0.327932  ... -0.311489 -0.927233 -0.045268   \n",
       "41832   0.434188  0.345321 -0.571382  ...  0.344044  0.821732  0.122176   \n",
       "\n",
       "             V24       V25       V26       V27       V28  Amount  Class  \n",
       "14338  -0.592077  0.520791  0.043354  0.015159  0.063612    3.76      1  \n",
       "229712 -0.168597  0.465058  0.210510  0.648705  0.360224    1.18      1  \n",
       "243547  0.786670  0.063895  0.154707 -2.042403  1.405141   57.73      1  \n",
       "141258 -0.405859  0.906802  1.165784  1.374495  0.729889    0.00      1  \n",
       "243749 -0.616962 -0.442811  0.359841 -2.651825  0.422184    1.00      1  \n",
       "...          ...       ...       ...       ...       ...     ...    ...  \n",
       "181654  0.642459  0.278236 -0.544417 -0.015199 -0.051534   69.97      0  \n",
       "104643 -1.728104  0.174920  0.544805  0.059869 -0.084331   89.40      0  \n",
       "119042  0.371739  0.335230 -0.101951  0.051646  0.025906    7.00      0  \n",
       "237     0.979587  0.016423  0.091043  0.371280  0.180187    1.79      0  \n",
       "41832   0.640407 -0.298421  0.396672 -0.113165 -0.027024   58.85      0  \n",
       "\n",
       "[984 rows x 31 columns]"
      ]
     },
     "execution_count": 25,
     "metadata": {},
     "output_type": "execute_result"
    }
   ],
   "source": [
    "df_final"
   ]
  },
  {
   "cell_type": "code",
   "execution_count": 26,
   "metadata": {},
   "outputs": [
    {
     "data": {
      "text/plain": [
       "<matplotlib.axes._subplots.AxesSubplot at 0xbe0a1a8a48>"
      ]
     },
     "execution_count": 26,
     "metadata": {},
     "output_type": "execute_result"
    },
    {
     "data": {
      "image/png": "[encoded data removed]",
      "text/plain": [
       "<Figure size 432x288 with 1 Axes>"
      ]
     },
     "metadata": {
      "needs_background": "light"
     },
     "output_type": "display_data"
    }
   ],
   "source": [
    "sns.countplot(data=df_final,x='Class')"
   ]
  },
  {
   "cell_type": "markdown",
   "metadata": {},
   "source": [
    "Pelo gráfico acima tem-se que o dataframe fico equilibrado entre dados de fraude e não fraude"
   ]
  },
  {
   "cell_type": "markdown",
   "metadata": {},
   "source": [
    "O próximo passo é entender a relação das outras características (V1 até V28) com  \"Class\". Para isso vamos analinar a correlação entre essas variáveis em um mapa de calor"
   ]
  },
  {
   "cell_type": "code",
   "execution_count": 27,
   "metadata": {},
   "outputs": [
    {
     "data": {
      "text/plain": [
       "<matplotlib.axes._subplots.AxesSubplot at 0xbe0a177148>"
      ]
     },
     "execution_count": 27,
     "metadata": {},
     "output_type": "execute_result"
    },
    {
     "data": {
      "image/png": "[encoded data removed]",
      "text/plain": [
       "<Figure size 1080x1080 with 2 Axes>"
      ]
     },
     "metadata": {
      "needs_background": "light"
     },
     "output_type": "display_data"
    }
   ],
   "source": [
    "plt.figure(figsize=(15,15))\n",
    "sns.heatmap(df_final.corr(),cmap='Set1',linewidths=0.1)"
   ]
  },
  {
   "cell_type": "markdown",
   "metadata": {},
   "source": [
    "Pelo mapa de calor acima tem-se que as variáveis V17,V16,V14,V12, V10,V9 e V3 apresentam uma correlação negativa forte com a coluna \"Class\".\n",
    "Já as variáveis V4, V11 e V2 apresentam uma correlação positiva em relação a \"Class\""
   ]
  },
  {
   "cell_type": "markdown",
   "metadata": {},
   "source": [
    "Para um olhar mais atento vamos, agora, por meio de gráficos de caixa verificar como os valores dos dados são distribuidos para cada tipo de \"Class\", ou seja, para fraudes e não fraudes:"
   ]
  },
  {
   "cell_type": "code",
   "execution_count": 28,
   "metadata": {},
   "outputs": [
    {
     "data": {
      "text/plain": [
       "Text(0.5, 1.0, 'V12')"
      ]
     },
     "execution_count": 28,
     "metadata": {},
     "output_type": "execute_result"
    },
    {
     "data": {
      "image/png": "[encoded data removed]",
      "text/plain": [
       "<Figure size 1296x288 with 4 Axes>"
      ]
     },
     "metadata": {
      "needs_background": "light"
     },
     "output_type": "display_data"
    }
   ],
   "source": [
    "fig, ax=plt.subplots(nrows=1, ncols=4,figsize=(18,4))\n",
    "\n",
    "sns.boxplot(x='Class',y='V17', data=df_final,ax=ax[0])\n",
    "ax[0].set_title('V17',fontsize=20)\n",
    "\n",
    "sns.boxplot(x='Class',y='V16', data=df_final,ax=ax[1])\n",
    "ax[1].set_title('V16',fontsize=20)\n",
    "\n",
    "sns.boxplot(x='Class',y='V14', data=df_final,ax=ax[2])\n",
    "ax[2].set_title('V14',fontsize=20)\n",
    "\n",
    "sns.boxplot(x='Class',y='V12', data=df_final,ax=ax[3])\n",
    "ax[3].set_title('V12',fontsize=20)\n"
   ]
  },
  {
   "cell_type": "code",
   "execution_count": 29,
   "metadata": {},
   "outputs": [
    {
     "data": {
      "text/plain": [
       "Text(0.5, 1.0, 'V3')"
      ]
     },
     "execution_count": 29,
     "metadata": {},
     "output_type": "execute_result"
    },
    {
     "data": {
      "image/png": "[encoded data removed]",
      "text/plain": [
       "<Figure size 1296x288 with 3 Axes>"
      ]
     },
     "metadata": {
      "needs_background": "light"
     },
     "output_type": "display_data"
    }
   ],
   "source": [
    "fig, ax=plt.subplots(nrows=1, ncols=3,figsize=(18,4))\n",
    "sns.boxplot(x='Class',y='V10', data=df_final,ax=ax[0])\n",
    "ax[0].set_title('V10',fontsize=20)\n",
    "\n",
    "sns.boxplot(x='Class',y='V9', data=df_final,ax=ax[1])\n",
    "ax[1].set_title('V9',fontsize=20)\n",
    "\n",
    "sns.boxplot(x='Class',y='V3', data=df_final,ax=ax[2])\n",
    "ax[2].set_title('V3',fontsize=20)"
   ]
  },
  {
   "cell_type": "code",
   "execution_count": 30,
   "metadata": {},
   "outputs": [
    {
     "data": {
      "text/plain": [
       "Text(0.5, 1.0, 'V2')"
      ]
     },
     "execution_count": 30,
     "metadata": {},
     "output_type": "execute_result"
    },
    {
     "data": {
      "image/png": "[encoded data removed]",
      "text/plain": [
       "<Figure size 1296x288 with 3 Axes>"
      ]
     },
     "metadata": {
      "needs_background": "light"
     },
     "output_type": "display_data"
    }
   ],
   "source": [
    "fig, ax=plt.subplots(nrows=1, ncols=3,figsize=(18,4))\n",
    "\n",
    "\n",
    "sns.boxplot(x='Class',y='V4', data=df_final,ax=ax[0])\n",
    "ax[0].set_title('V4',fontsize=20)\n",
    "\n",
    "sns.boxplot(x='Class',y='V11', data=df_final,ax=ax[1])\n",
    "ax[1].set_title('V11',fontsize=20)\n",
    "\n",
    "sns.boxplot(x='Class',y='V2', data=df_final,ax=ax[2])\n",
    "ax[2].set_title('V2',fontsize=20)\n"
   ]
  },
  {
   "cell_type": "markdown",
   "metadata": {},
   "source": [
    "De fato pela distribuição dos dados pelos gráficos acima podemos concluir que as variáveis  V17,V16,V14,V12, V10,V9, V3,V4, V11 e V2 apresentam uma relação mais forte com as fraudes de cartões de crédito indicados pela coluna \"Class\". Para confirmar, vamos plotar mais um gráfico de caixa para verificarmos como uma variável que apresentou baixa correlação com a coluna \"Class\" no mapa de calor não apresenta uma grande diferença na distribuição dos dados para fraude e não-fraude "
   ]
  },
  {
   "cell_type": "code",
   "execution_count": 31,
   "metadata": {},
   "outputs": [
    {
     "data": {
      "text/plain": [
       "Text(0.5, 1.0, 'V15')"
      ]
     },
     "execution_count": 31,
     "metadata": {},
     "output_type": "execute_result"
    },
    {
     "data": {
      "image/png": "[encoded data removed]",
      "text/plain": [
       "<Figure size 432x288 with 1 Axes>"
      ]
     },
     "metadata": {
      "needs_background": "light"
     },
     "output_type": "display_data"
    }
   ],
   "source": [
    "\n",
    "sns.boxplot(x='Class',y='V15', data=df_final)\n",
    "plt.title('V15',fontsize=20)"
   ]
  },
  {
   "cell_type": "markdown",
   "metadata": {},
   "source": [
    "## CONCLUSÃO\n",
    "\n",
    "Pela análise acima observamos que as variáveis V17,V16,V14,V12, V10,V9, V3,V4, V11 e V2 são mais determinantes para se prever os causos de fraude do que as outras. Assim devemos escolher um modelo de classificação supervisionado que consiga interpretar essas informações e realizar a previsão com qualidade"
   ]
  },
  {
   "cell_type": "markdown",
   "metadata": {},
   "source": [
    "## Construindo modelos para realizar previsões\n"
   ]
  },
  {
   "cell_type": "markdown",
   "metadata": {},
   "source": [
    "Existem varios modelos de aprendizagem supervisionada que podem ser implementados e testados neste desafio. Escolhermos 2 deles: Regressão Logistica e Florestas Aleatórias. "
   ]
  },
  {
   "cell_type": "markdown",
   "metadata": {},
   "source": [
    "### Divisão treino-teste\n",
    "Vamos começar dividindo nossos dados em um conjunto de treinamento e conjunto de testes:"
   ]
  },
  {
   "cell_type": "code",
   "execution_count": 32,
   "metadata": {},
   "outputs": [],
   "source": [
    "from sklearn.model_selection import train_test_split"
   ]
  },
  {
   "cell_type": "code",
   "execution_count": 33,
   "metadata": {},
   "outputs": [],
   "source": [
    "x=df_final.drop('Class',axis=1)\n",
    "y=df_final['Class']"
   ]
  },
  {
   "cell_type": "code",
   "execution_count": 34,
   "metadata": {},
   "outputs": [
    {
     "data": {
      "text/plain": [
       "(984, 30)"
      ]
     },
     "execution_count": 34,
     "metadata": {},
     "output_type": "execute_result"
    }
   ],
   "source": [
    "x.shape"
   ]
  },
  {
   "cell_type": "code",
   "execution_count": 35,
   "metadata": {},
   "outputs": [
    {
     "data": {
      "text/plain": [
       "(984,)"
      ]
     },
     "execution_count": 35,
     "metadata": {},
     "output_type": "execute_result"
    }
   ],
   "source": [
    "y.shape"
   ]
  },
  {
   "cell_type": "code",
   "execution_count": 36,
   "metadata": {},
   "outputs": [],
   "source": [
    "#redefine o indice\n",
    "#df_final.index = range(984 )"
   ]
  },
  {
   "cell_type": "code",
   "execution_count": 37,
   "metadata": {},
   "outputs": [],
   "source": [
    "X_train, X_test, y_train, y_test = train_test_split(x,y, test_size=0.20, random_state=40)"
   ]
  },
  {
   "cell_type": "markdown",
   "metadata": {},
   "source": [
    "### Treinando o modelo de Regressão Logistica"
   ]
  },
  {
   "cell_type": "code",
   "execution_count": 38,
   "metadata": {},
   "outputs": [],
   "source": [
    "from sklearn.linear_model import LogisticRegression"
   ]
  },
  {
   "cell_type": "code",
   "execution_count": 39,
   "metadata": {},
   "outputs": [
    {
     "data": {
      "text/plain": [
       "LogisticRegression(C=1.0, class_weight=None, dual=False, fit_intercept=True,\n",
       "                   intercept_scaling=1, l1_ratio=None, max_iter=100,\n",
       "                   multi_class='auto', n_jobs=None, penalty='l2',\n",
       "                   random_state=None, solver='lbfgs', tol=0.0001, verbose=0,\n",
       "                   warm_start=False)"
      ]
     },
     "execution_count": 39,
     "metadata": {},
     "output_type": "execute_result"
    }
   ],
   "source": [
    "logmodel = LogisticRegression()\n",
    "logmodel.fit(X_train,y_train)"
   ]
  },
  {
   "cell_type": "code",
   "execution_count": 40,
   "metadata": {},
   "outputs": [],
   "source": [
    "predictions = logmodel.predict(X_test)"
   ]
  },
  {
   "cell_type": "markdown",
   "metadata": {},
   "source": [
    "### Avaliando os resultados:"
   ]
  },
  {
   "cell_type": "code",
   "execution_count": 41,
   "metadata": {},
   "outputs": [],
   "source": [
    "from sklearn.metrics import classification_report"
   ]
  },
  {
   "cell_type": "code",
   "execution_count": 42,
   "metadata": {},
   "outputs": [
    {
     "name": "stdout",
     "output_type": "stream",
     "text": [
      "              precision    recall  f1-score   support\n",
      "\n",
      "           0       0.92      0.97      0.95        99\n",
      "           1       0.97      0.92      0.94        98\n",
      "\n",
      "    accuracy                           0.94       197\n",
      "   macro avg       0.95      0.94      0.94       197\n",
      "weighted avg       0.95      0.94      0.94       197\n",
      "\n"
     ]
    }
   ],
   "source": [
    "print(classification_report(y_test,predictions))"
   ]
  },
  {
   "cell_type": "markdown",
   "metadata": {},
   "source": [
    "Conseguimos uma precisão em torno de 93%, sendo este um resultado muito bom. "
   ]
  },
  {
   "cell_type": "markdown",
   "metadata": {},
   "source": [
    "O próximo passo é verificar o modelo de Florestas Aleatórias."
   ]
  },
  {
   "cell_type": "markdown",
   "metadata": {},
   "source": [
    "### Treinando o modelo de Floestas aleatórias"
   ]
  },
  {
   "cell_type": "code",
   "execution_count": 43,
   "metadata": {},
   "outputs": [
    {
     "data": {
      "text/plain": [
       "RandomForestClassifier(bootstrap=True, ccp_alpha=0.0, class_weight=None,\n",
       "                       criterion='gini', max_depth=None, max_features='auto',\n",
       "                       max_leaf_nodes=None, max_samples=None,\n",
       "                       min_impurity_decrease=0.0, min_impurity_split=None,\n",
       "                       min_samples_leaf=1, min_samples_split=2,\n",
       "                       min_weight_fraction_leaf=0.0, n_estimators=30,\n",
       "                       n_jobs=None, oob_score=False, random_state=None,\n",
       "                       verbose=0, warm_start=False)"
      ]
     },
     "execution_count": 43,
     "metadata": {},
     "output_type": "execute_result"
    }
   ],
   "source": [
    "\n",
    "from sklearn.ensemble import RandomForestClassifier\n",
    "\n",
    "rfc=RandomForestClassifier(n_estimators=30)\n",
    "\n",
    "rfc.fit(X_train,y_train)"
   ]
  },
  {
   "cell_type": "code",
   "execution_count": 44,
   "metadata": {},
   "outputs": [],
   "source": [
    "rfc_pred=rfc.predict(X_test)"
   ]
  },
  {
   "cell_type": "code",
   "execution_count": 45,
   "metadata": {},
   "outputs": [
    {
     "name": "stdout",
     "output_type": "stream",
     "text": [
      "              precision    recall  f1-score   support\n",
      "\n",
      "           0       0.92      0.98      0.95        99\n",
      "           1       0.98      0.92      0.95        98\n",
      "\n",
      "    accuracy                           0.95       197\n",
      "   macro avg       0.95      0.95      0.95       197\n",
      "weighted avg       0.95      0.95      0.95       197\n",
      "\n"
     ]
    }
   ],
   "source": [
    "print(classification_report(y_test,rfc_pred))"
   ]
  },
  {
   "cell_type": "markdown",
   "metadata": {},
   "source": [
    "Pode-se observar que os dois modelos apresentaram resultados bastante semelhantes."
   ]
  },
  {
   "cell_type": "markdown",
   "metadata": {},
   "source": [
    "Para tentar melhorar o resultado ainda mais podemos retirar alguns outliers e treinarmos novamente os modelos sem esses outliers para que possamos comparar os resultados"
   ]
  },
  {
   "cell_type": "code",
   "execution_count": null,
   "metadata": {},
   "outputs": [],
   "source": []
  },
  {
   "cell_type": "markdown",
   "metadata": {},
   "source": [
    "### Removendo outliers"
   ]
  },
  {
   "cell_type": "code",
   "execution_count": 46,
   "metadata": {},
   "outputs": [
    {
     "name": "stdout",
     "output_type": "stream",
     "text": [
      "Quartile 25: -11.945057187644572 | Quartile 75: -1.34193993162032\n",
      "iqr: 10.603117256024252\n",
      "Cut Off: 15.904675884036378\n",
      "V17 Lower: -27.84973307168095\n",
      "V17 Upper: 14.562735952416057\n",
      " V17 Outliers por causos de fraude: 0\n",
      "V17 outliers:[]\n",
      "------------------------------------------------------------------------------------------------------------------------\n",
      "Quartile 25: -6.562915201970733 | Quartile 75: -1.22604320393038\n",
      "iqr: 5.336871998040353\n",
      "Cut Off: 8.00530799706053\n",
      "V16 Lower: -14.568223199031262\n",
      "V16 Upper: 6.77926479313015\n",
      " V16 Outliers por causos de fraude: 0\n",
      "V16 outliers:[]\n",
      "------------------------------------------------------------------------------------------------------------------------\n",
      "Quartile 25: -9.692722964972385 | Quartile 75: -4.282820849486866\n",
      "iqr: 5.409902115485519\n",
      "Cut Off: 8.114853173228278\n",
      "V14 Lower: -17.807576138200663\n",
      "V14 Upper: 3.8320323237414122\n",
      " V14 Outliers por causos de fraude: 4\n",
      "V14 outliers:[-18.8220867423816, -18.049997689859396, -18.4937733551053, -19.2143254902614]\n",
      "------------------------------------------------------------------------------------------------------------------------\n",
      "Quartile 25: -8.688176521812306 | Quartile 75: -2.9740880253849302\n",
      "iqr: 5.714088496427376\n",
      "Cut Off: 8.571132744641064\n",
      "V12 Lower: -17.25930926645337\n",
      "V12 Upper: 5.597044719256134\n",
      " V12 Outliers por causos de fraude: 6\n",
      "V12 outliers:[-18.047596570821604, -18.4311310279993, -18.553697009645802, -18.683714633344298, -17.631606313870698, -17.7691434633638]\n",
      "------------------------------------------------------------------------------------------------------------------------\n",
      "Quartile 25: -7.7566982278474725 | Quartile 75: -2.6141839131895623\n",
      "iqr: 5.142514314657911\n",
      "Cut Off: 7.713771471986866\n",
      "V10 Lower: -15.47046969983434\n",
      "V10 Upper: 5.099587558797303\n",
      " V10 Outliers por causos de fraude: 19\n",
      "V10 outliers:[-22.1870885620007, -19.836148851696, -22.1870885620007, -17.141513641289198, -24.5882624372475, -16.7460441053944, -18.2711681738888, -18.9132433348732, -15.563791338730098, -16.6011969664137, -16.3035376590131, -22.1870885620007, -24.403184969972802, -16.6496281595399, -22.1870885620007, -15.563791338730098, -16.2556117491401, -23.2282548357516, -20.949191554361104]\n",
      "------------------------------------------------------------------------------------------------------------------------\n",
      "Quartile 25: -3.8723833348888625 | Quartile 75: -0.7878501277025964\n",
      "iqr: 3.084533207186266\n",
      "Cut Off: 4.626799810779399\n",
      "V9 Lower: -8.499183145668262\n",
      "V9 Upper: 3.8389496830768026\n",
      " V9 Outliers por causos de fraude: 17\n",
      "V9 outliers:[-9.46257260540015, -10.8425258685569, -8.6030380974132, -9.46257260540015, -13.3201546920984, -8.73967037069304, -8.960921699851099, -8.50428479375643, -9.46257260540015, -8.50705863675898, -9.28392451240577, -13.4340663182301, -8.55011032700099, -9.46257260540015, -8.63039030596902, -11.1266235224579, -9.48145633401495]\n",
      "------------------------------------------------------------------------------------------------------------------------\n",
      "Quartile 25: -8.643489255766207 | Quartile 75: -2.27618472719291\n",
      "iqr: 6.367304528573297\n",
      "Cut Off: 9.550956792859946\n",
      "V3 Lower: -18.194446048626155\n",
      "V3 Upper: 7.274772065667036\n",
      " V3 Outliers por causos de fraude: 53\n",
      "V3 outliers:[-18.256576111808, -30.1773174564996, -22.209874815521, -29.4687320925264, -30.013712485724803, -20.1346128135864, -28.923755945104, -28.4074244550982, -26.278700586614498, -19.818981808527898, -18.256576111808, -30.1773174564996, -19.629515251817104, -27.855811133621202, -19.947726046163, -22.801237694778198, -26.823672913511402, -24.2021422329158, -22.3385905133352, -31.103684824581197, -21.919173580784303, -24.667741248573197, -20.4919522106577, -19.5750661905691, -18.572307456296002, -23.270630523285604, -19.7393862972953, -21.405835744128, -30.1773174564996, -22.8046864614815, -18.649853185194498, -19.1336024646827, -23.736443410521602, -26.871338779713604, -20.134992104854, -19.0269123426632, -27.368650288126602, -22.464082746487602, -25.7337337663194, -24.098871851647, -21.872317364456602, -30.1773174564996, -21.402916813139104, -23.0090029136283, -20.4919522106577, -20.363885973914897, -24.643818777122604, -30.5586968214292, -25.1887729688701, -19.0385383213549, -25.3902293121699, -23.5539329441267, -22.8652284959099]\n",
      "------------------------------------------------------------------------------------------------------------------------\n",
      "Quartile 25: 2.373049531845565 | Quartile 75: 6.348729456714095\n",
      "iqr: 3.9756799248685297\n",
      "Cut Off: 5.963519887302795\n",
      "V4 Lower: -3.5904703554572297\n",
      "V4 Upper: 12.31224934401689\n",
      " V4 Outliers por causos de fraude: 0\n",
      "V4 outliers:[]\n",
      "------------------------------------------------------------------------------------------------------------------------\n",
      "Quartile 25: 1.973396660607005 | Quartile 75: 5.307077600096335\n",
      "iqr: 3.33368093948933\n",
      "Cut Off: 5.000521409233995\n",
      "V14 Lower: -3.0271247486269903\n",
      "V14 Upper: 10.30759900933033\n",
      " V17 Outliers por causos de fraude: 10\n",
      "V10 outliers:[10.446846814514, 11.277920727806698, 11.6197234753825, 11.228470279576001, 11.6692047358121, 12.018913181619899, 11.0270590938161, 10.5452629545898, 10.8530116481991, 11.152490598583698]\n",
      "------------------------------------------------------------------------------------------------------------------------\n",
      "Quartile 25: 1.1882258198658224 | Quartile 75: 4.9712573249056025\n",
      "iqr: 3.78303150503978\n",
      "Cut Off: 5.67454725755967\n",
      "V2 Lower: -4.486321437693848\n",
      "V2 Upper: 10.645804582465273\n",
      " V2 Outliers por causos de fraude: 46\n",
      "V2 outliers:[12.785970638297998, 16.497471901867, 16.6978316913154, 15.876922987953598, 16.1557014298057, 12.785970638297998, 12.3525186682391, 15.598192662555402, 15.3658043803315, 12.785970638297998, 14.044566781510598, -5.1983601992332895, -7.15904171709445, 16.497471901867, 22.0577289904909, 14.7063346696674, 14.323253809723301, 16.7133892350242, 11.817921989785301, 12.785970638297998, 12.864988563015, 11.614800542586698, -4.8144607395562105, 16.497471901867, -6.976420007546411, 12.785970638297998, -7.4490151587267395, 12.785970638297998, -8.402153677689151, 21.4672029942752, 14.6019980426299, 12.095893225929899, 13.7659421584186, 12.9305051249875, 16.497471901867, 11.586380519818402, 12.3739891389716, 10.8196653713117, 13.208904284417601, -7.19697963053735, 16.4345245512223, 13.4873857909274, 12.572117853538499, 19.167239010306197, 12.6521968313004, 15.53613332478]\n",
      "------------------------------------------------------------------------------------------------------------------------\n"
     ]
    }
   ],
   "source": [
    "#  Removendo outliers V17,V16,V14,V12, V10,V9, V3,V4, V11 e V2\n",
    "v_fraud = df_final['V17'].loc[df_final['Class'] == 1].values\n",
    "q25, q75 = np.percentile(v_fraud, 25), np.percentile(v_fraud, 75)\n",
    "print('Quartile 25: {} | Quartile 75: {}'.format(q25, q75))\n",
    "v_iqr = q75 - q25\n",
    "print('iqr: {}'.format(v_iqr))\n",
    "\n",
    "v_cut_off = v_iqr * 1.5\n",
    "v_lower, v_upper = q25 - v_cut_off, q75 + v_cut_off\n",
    "print('Cut Off: {}'.format(v_cut_off))\n",
    "print('V17 Lower: {}'.format(v_lower))\n",
    "print('V17 Upper: {}'.format(v_upper))\n",
    "\n",
    "outliers = [x for x in v_fraud if x < v_lower or x > v_upper]\n",
    "print(' V17 Outliers por causos de fraude: {}'.format(len(outliers)))\n",
    "print('V17 outliers:{}'.format(outliers))\n",
    "\n",
    "new_df = df_final.drop(df_final[(df_final['V17'] > v_upper) | (df_final['V17'] < v_lower)].index)\n",
    "print('----' * 30)\n",
    "\n",
    "#  Removendo outliers V17,V16,V14,V12, V10,V9, V3,V4, V11 e V2\n",
    "v_fraud = df_final['V16'].loc[df_final['Class'] == 1].values\n",
    "q25, q75 = np.percentile(v_fraud, 25), np.percentile(v_fraud, 75)\n",
    "print('Quartile 25: {} | Quartile 75: {}'.format(q25, q75))\n",
    "v_iqr = q75 - q25\n",
    "print('iqr: {}'.format(v_iqr))\n",
    "\n",
    "v_cut_off = v_iqr * 1.5\n",
    "v_lower, v_upper = q25 - v_cut_off, q75 + v_cut_off\n",
    "print('Cut Off: {}'.format(v_cut_off))\n",
    "print('V16 Lower: {}'.format(v_lower))\n",
    "print('V16 Upper: {}'.format(v_upper))\n",
    "\n",
    "outliers = [x for x in v_fraud if x < v_lower or x > v_upper]\n",
    "print(' V16 Outliers por causos de fraude: {}'.format(len(outliers)))\n",
    "print('V16 outliers:{}'.format(outliers))\n",
    "\n",
    "new_df = df_final.drop(df_final[(df_final['V16'] > v_upper) | (df_final['V16'] < v_lower)].index)\n",
    "print('----' * 30)\n",
    "\n",
    "#  Removendo outliers V17,V16,V14,V12, V10,V9, V3,V4, V11 e V2\n",
    "v_fraud = df_final['V14'].loc[df_final['Class'] == 1].values\n",
    "q25, q75 = np.percentile(v_fraud, 25), np.percentile(v_fraud, 75)\n",
    "print('Quartile 25: {} | Quartile 75: {}'.format(q25, q75))\n",
    "v_iqr = q75 - q25\n",
    "print('iqr: {}'.format(v_iqr))\n",
    "\n",
    "v_cut_off = v_iqr * 1.5\n",
    "v_lower, v_upper = q25 - v_cut_off, q75 + v_cut_off\n",
    "print('Cut Off: {}'.format(v_cut_off))\n",
    "print('V14 Lower: {}'.format(v_lower))\n",
    "print('V14 Upper: {}'.format(v_upper))\n",
    "\n",
    "outliers = [x for x in v_fraud if x < v_lower or x > v_upper]\n",
    "print(' V14 Outliers por causos de fraude: {}'.format(len(outliers)))\n",
    "print('V14 outliers:{}'.format(outliers))\n",
    "\n",
    "new_df = df_final.drop(df_final[(df_final['V14'] > v_upper) | (df_final['V14'] < v_lower)].index)\n",
    "print('----' * 30)\n",
    "\n",
    "#  Removendo outliers V17,V16,V14,V12, V10,V9, V3,V4, V11 e V2\n",
    "v_fraud = df_final['V12'].loc[df_final['Class'] == 1].values\n",
    "q25, q75 = np.percentile(v_fraud, 25), np.percentile(v_fraud, 75)\n",
    "print('Quartile 25: {} | Quartile 75: {}'.format(q25, q75))\n",
    "v_iqr = q75 - q25\n",
    "print('iqr: {}'.format(v_iqr))\n",
    "\n",
    "v_cut_off = v_iqr * 1.5\n",
    "v_lower, v_upper = q25 - v_cut_off, q75 + v_cut_off\n",
    "print('Cut Off: {}'.format(v_cut_off))\n",
    "print('V12 Lower: {}'.format(v_lower))\n",
    "print('V12 Upper: {}'.format(v_upper))\n",
    "\n",
    "outliers = [x for x in v_fraud if x < v_lower or x > v_upper]\n",
    "print(' V12 Outliers por causos de fraude: {}'.format(len(outliers)))\n",
    "print('V12 outliers:{}'.format(outliers))\n",
    "\n",
    "new_df = df_final.drop(df_final[(df_final['V12'] > v_upper) | (df_final['V12'] < v_lower)].index)\n",
    "print('----' * 30)\n",
    "\n",
    "#  Removendo outliers V17,V16,V14,V12, V10,V9, V3,V4, V11 e V2\n",
    "v_fraud = df_final['V10'].loc[df_final['Class'] == 1].values\n",
    "q25, q75 = np.percentile(v_fraud, 25), np.percentile(v_fraud, 75)\n",
    "print('Quartile 25: {} | Quartile 75: {}'.format(q25, q75))\n",
    "v_iqr = q75 - q25\n",
    "print('iqr: {}'.format(v_iqr))\n",
    "\n",
    "v_cut_off = v_iqr * 1.5\n",
    "v_lower, v_upper = q25 - v_cut_off, q75 + v_cut_off\n",
    "print('Cut Off: {}'.format(v_cut_off))\n",
    "print('V10 Lower: {}'.format(v_lower))\n",
    "print('V10 Upper: {}'.format(v_upper))\n",
    "\n",
    "outliers = [x for x in v_fraud if x < v_lower or x > v_upper]\n",
    "print(' V10 Outliers por causos de fraude: {}'.format(len(outliers)))\n",
    "print('V10 outliers:{}'.format(outliers))\n",
    "\n",
    "new_df = df_final.drop(df_final[(df_final['V10'] > v_upper) | (df_final['V10'] < v_lower)].index)\n",
    "print('----' * 30)\n",
    "\n",
    "#  Removendo outliers V17,V16,V14,V12, V10,V9, V3,V4, V11 e V2\n",
    "v_fraud = df_final['V9'].loc[df_final['Class'] == 1].values\n",
    "q25, q75 = np.percentile(v_fraud, 25), np.percentile(v_fraud, 75)\n",
    "print('Quartile 25: {} | Quartile 75: {}'.format(q25, q75))\n",
    "v_iqr = q75 - q25\n",
    "print('iqr: {}'.format(v_iqr))\n",
    "\n",
    "v_cut_off = v_iqr * 1.5\n",
    "v_lower, v_upper = q25 - v_cut_off, q75 + v_cut_off\n",
    "print('Cut Off: {}'.format(v_cut_off))\n",
    "print('V9 Lower: {}'.format(v_lower))\n",
    "print('V9 Upper: {}'.format(v_upper))\n",
    "\n",
    "outliers = [x for x in v_fraud if x < v_lower or x > v_upper]\n",
    "print(' V9 Outliers por causos de fraude: {}'.format(len(outliers)))\n",
    "print('V9 outliers:{}'.format(outliers))\n",
    "\n",
    "new_df = df_final.drop(df_final[(df_final['V9'] > v_upper) | (df_final['V9'] < v_lower)].index)\n",
    "print('----' * 30)\n",
    "\n",
    "#  Removendo outliers V17,V16,V14,V12, V10,V9, V3,V4, V11 e V2\n",
    "v_fraud = df_final['V3'].loc[df_final['Class'] == 1].values\n",
    "q25, q75 = np.percentile(v_fraud, 25), np.percentile(v_fraud, 75)\n",
    "print('Quartile 25: {} | Quartile 75: {}'.format(q25, q75))\n",
    "v_iqr = q75 - q25\n",
    "print('iqr: {}'.format(v_iqr))\n",
    "\n",
    "v_cut_off = v_iqr * 1.5\n",
    "v_lower, v_upper = q25 - v_cut_off, q75 + v_cut_off\n",
    "print('Cut Off: {}'.format(v_cut_off))\n",
    "print('V3 Lower: {}'.format(v_lower))\n",
    "print('V3 Upper: {}'.format(v_upper))\n",
    "\n",
    "outliers = [x for x in v_fraud if x < v_lower or x > v_upper]\n",
    "print(' V3 Outliers por causos de fraude: {}'.format(len(outliers)))\n",
    "print('V3 outliers:{}'.format(outliers))\n",
    "\n",
    "new_df = df_final.drop(df_final[(df_final['V3'] > v_upper) | (df_final['V3'] < v_lower)].index)\n",
    "print('----' * 30)\n",
    "\n",
    "#  Removendo outliers V17,V16,V14,V12, V10,V9, V3,V4, V11 e V2\n",
    "v_fraud = df_final['V4'].loc[df_final['Class'] == 1].values\n",
    "q25, q75 = np.percentile(v_fraud, 25), np.percentile(v_fraud, 75)\n",
    "print('Quartile 25: {} | Quartile 75: {}'.format(q25, q75))\n",
    "v_iqr = q75 - q25\n",
    "print('iqr: {}'.format(v_iqr))\n",
    "\n",
    "v_cut_off = v_iqr * 1.5\n",
    "v_lower, v_upper = q25 - v_cut_off, q75 + v_cut_off\n",
    "print('Cut Off: {}'.format(v_cut_off))\n",
    "print('V4 Lower: {}'.format(v_lower))\n",
    "print('V4 Upper: {}'.format(v_upper))\n",
    "\n",
    "outliers = [x for x in v_fraud if x < v_lower or x > v_upper]\n",
    "print(' V4 Outliers por causos de fraude: {}'.format(len(outliers)))\n",
    "print('V4 outliers:{}'.format(outliers))\n",
    "\n",
    "new_df = df_final.drop(df_final[(df_final['V4'] > v_upper) | (df_final['V4'] < v_lower)].index)\n",
    "print('----' * 30)\n",
    "\n",
    "#  Removendo outliers V17,V16,V14,V12, V10,V9, V3,V4, V11 e V2\n",
    "v_fraud = df_final['V11'].loc[df_final['Class'] == 1].values\n",
    "q25, q75 = np.percentile(v_fraud, 25), np.percentile(v_fraud, 75)\n",
    "print('Quartile 25: {} | Quartile 75: {}'.format(q25, q75))\n",
    "v_iqr = q75 - q25\n",
    "print('iqr: {}'.format(v_iqr))\n",
    "\n",
    "v_cut_off = v_iqr * 1.5\n",
    "v_lower, v_upper = q25 - v_cut_off, q75 + v_cut_off\n",
    "print('Cut Off: {}'.format(v_cut_off))\n",
    "print('V14 Lower: {}'.format(v_lower))\n",
    "print('V14 Upper: {}'.format(v_upper))\n",
    "\n",
    "outliers = [x for x in v_fraud if x < v_lower or x > v_upper]\n",
    "print(' V17 Outliers por causos de fraude: {}'.format(len(outliers)))\n",
    "print('V10 outliers:{}'.format(outliers))\n",
    "\n",
    "new_df = df_final.drop(df_final[(df_final['V11'] > v_upper) | (df_final['V11'] < v_lower)].index)\n",
    "print('----' * 30)\n",
    "\n",
    "#  Removendo outliers V17,V16,V14,V12, V10,V9, V3,V4, V11 e V2\n",
    "v_fraud = df_final['V2'].loc[df_final['Class'] == 1].values\n",
    "q25, q75 = np.percentile(v_fraud, 25), np.percentile(v_fraud, 75)\n",
    "print('Quartile 25: {} | Quartile 75: {}'.format(q25, q75))\n",
    "v_iqr = q75 - q25\n",
    "print('iqr: {}'.format(v_iqr))\n",
    "\n",
    "v_cut_off = v_iqr * 1.5\n",
    "v_lower, v_upper = q25 - v_cut_off, q75 + v_cut_off\n",
    "print('Cut Off: {}'.format(v_cut_off))\n",
    "print('V2 Lower: {}'.format(v_lower))\n",
    "print('V2 Upper: {}'.format(v_upper))\n",
    "\n",
    "outliers = [x for x in v_fraud if x < v_lower or x > v_upper]\n",
    "print(' V2 Outliers por causos de fraude: {}'.format(len(outliers)))\n",
    "print('V2 outliers:{}'.format(outliers))\n",
    "\n",
    "new_df = df_final.drop(df_final[(df_final['V2'] > v_upper) | (df_final['V2'] < v_lower)].index)\n",
    "print('----' * 30)\n",
    "\n"
   ]
  },
  {
   "cell_type": "code",
   "execution_count": 47,
   "metadata": {},
   "outputs": [
    {
     "name": "stdout",
     "output_type": "stream",
     "text": [
      "Quartile 25: -0.45187391093193147 | Quartile 75: 0.4333777766089415\n",
      "iqr: 0.8852516875408729\n",
      "Cut Off: 1.3278775313113094\n",
      "V14 Lower: -1.7797514422432408\n",
      "V14 Upper: 1.7612553079202509\n",
      " V17 Outliers por causos de fraude: 18\n",
      "V10 outliers:[2.71493370828771, 1.90965086409958, 4.36902669608278, -2.37550276944901, 2.2265183072459904, 1.8183042702268002, 2.46603253078979, 1.7832711065917, 4.915296610943, 2.3189311755069397, 3.26047599980443, 2.5717231636875, 1.82291185580895, 2.12321102003806, 1.78067092732082, 2.05103419666618, 1.87749066382187, 2.16729799595337]\n",
      "------------------------------------------------------------------------------------------------------------------------\n",
      "Quartile 25: -0.44849017598329705 | Quartile 75: 0.483329539185065\n",
      "iqr: 0.931819715168362\n",
      "Cut Off: 1.3977295727525432\n",
      "V14 Lower: -1.8462197487358403\n",
      "V14 Upper: 1.881059111937608\n",
      " V17 Outliers por causos de fraude: 24\n",
      "V10 outliers:[-2.90334810877954, -2.5143514230961697, 1.9112599467046498, -2.32701220200313, -1.8803938915759297, -1.99959302035796, 1.8928216098862298, -1.96891082956323, -1.9559958650272802, 2.0492168712962497, 2.67652721208832, 1.89808805685879, 1.91287649793656, -1.9970886017214502, -2.12736276820284, 3.40604121030058, -2.94174407267721, -2.3578893019820697, -2.6210958561537403, -2.0744695011476497, -2.3260524788379304, -2.3417515347323703, 2.02715326059083, -1.97487335539155]\n",
      "------------------------------------------------------------------------------------------------------------------------\n",
      "Quartile 25: -0.4287625532147789 | Quartile 75: 0.51948814603931\n",
      "iqr: 0.9482506992540889\n",
      "Cut Off: 1.4223760488811332\n",
      "V14 Lower: -1.8511386020959122\n",
      "V14 Upper: 1.9418641949204432\n",
      " V17 Outliers por causos de fraude: 28\n",
      "V10 outliers:[-2.3330914307688397, -4.609995028786099, -1.86820269648536, 2.2207635422875, -5.800167292740429, -2.15190429146713, -2.2410282595430098, -2.13376728799213, -3.1178361835159802, 2.1496367534254803, 2.10312592112138, 1.96151040515967, 2.50420268497015, 2.02172939400963, -2.19695321754586, -3.60319062507959, -3.29162886790615, -2.82512750501172, 7.17616083238197, -2.16446973277925, -3.18274137663172, -1.94085055903682, -2.45323616781219, 4.16606763304873, 1.9462670320428201, -1.9165722724318701, -3.49028492106302, -2.16718433702311]\n",
      "------------------------------------------------------------------------------------------------------------------------\n",
      "Quartile 25: -0.4719750988228945 | Quartile 75: 0.5687657549136692\n",
      "iqr: 1.0407408537365637\n",
      "Cut Off: 1.5611112806048455\n",
      "V14 Lower: -2.03308637942774\n",
      "V14 Upper: 2.129877035518515\n",
      " V17 Outliers por causos de fraude: 25\n",
      "V10 outliers:[-2.06917813078936, 2.6788107851987997, -2.71638740473024, -3.20818250722817, -3.7095490512349802, -2.9137440353365, -2.44212826676547, -2.06795992282522, -3.37330069612661, -3.0911145513182996, -2.41890225017886, -2.8221177936407, 4.23371444027004, -2.09722745939932, -2.3280875731401296, -2.30722096533346, 2.33219303568091, -2.3563682654600098, -4.40428477142029, -2.23853960142923, -3.44958738081581, -4.04874602030203, 2.385229746411, -2.22489846297713, -2.10013274016643]\n",
      "------------------------------------------------------------------------------------------------------------------------\n",
      "Quartile 25: -0.5904484965256606 | Quartile 75: 0.3800539771402088\n",
      "iqr: 0.9705024736658694\n",
      "Cut Off: 1.455753710498804\n",
      "V14 Lower: -2.0462022070244648\n",
      "V14 Upper: 1.8358076876390128\n",
      " V17 Outliers por causos de fraude: 20\n",
      "V10 outliers:[2.1610421986264803, -2.40273003695463, 11.942719806585501, -2.13100464103145, 11.517064846505699, 2.78893311273189, -2.4650588678666803, -2.85955369768239, 2.4035889416852005, 3.60897148629408, -4.45289110040183, -2.06181727611659, -2.1792894411260804, 2.4284728693847204, 2.1981999854872303, -2.13820949487463, -2.2056813834319104, 4.44802317868267, 3.71469916015503, -2.3278797388494903]\n",
      "------------------------------------------------------------------------------------------------------------------------\n",
      "Quartile 25: -0.6499582618514722 | Quartile 75: 0.6652341038002332\n",
      "iqr: 1.3151923656517055\n",
      "Cut Off: 1.9727885484775582\n",
      "V14 Lower: -2.6227468103290303\n",
      "V14 Upper: 2.638022652277791\n",
      " V17 Outliers por causos de fraude: 14\n",
      "V10 outliers:[-2.62606266151161, 7.79622677015764, 3.18887378196894, 7.937988483020081, 2.73276059928464, 3.0332080224213795, 2.8311733309817497, 2.9763408816693104, -2.8972508044290297, 2.64190143668841, -3.05249619423625, 2.9450448891219105, 3.3441224859807903, 2.6383400934839503]\n",
      "------------------------------------------------------------------------------------------------------------------------\n",
      "Quartile 25: -0.800599578320907 | Quartile 75: 1.0820675609115775\n",
      "iqr: 1.8826671392324845\n",
      "Cut Off: 2.8240007088487267\n",
      "V14 Lower: -3.624600287169634\n",
      "V14 Upper: 3.906068269760304\n",
      " V17 Outliers por causos de fraude: 10\n",
      "V10 outliers:[-4.9667714237311, -3.8562331829622503, -3.7277431202790696, -3.7723701889435297, -12.2163830310324, -5.30473443811686, -4.14361658822619, -6.88078143578503, -4.54594173748198, -5.56752066153783]\n",
      "------------------------------------------------------------------------------------------------------------------------\n",
      "Quartile 25: -0.8551278033766168 | Quartile 75: 0.771462787906931\n",
      "iqr: 1.6265905912835477\n",
      "Cut Off: 2.4398858869253215\n",
      "V14 Lower: -3.2950136903019382\n",
      "V14 Upper: 3.2113486748322524\n",
      " V17 Outliers por causos de fraude: 14\n",
      "V10 outliers:[4.5081779785705995, 3.30180862412317, 3.50555966530648, 4.05010032908943, 4.0095364244369, 4.51315652478005, -3.70131415955913, 4.73801398329346, 3.6955144721799, 4.94562557873632, 4.660323960846929, 3.8878545700979306, 4.38777437136006, -3.63098023670112]\n",
      "------------------------------------------------------------------------------------------------------------------------\n",
      "Quartile 25: -0.8423420877215235 | Quartile 75: 0.7579532374241654\n",
      "iqr: 1.600295325145689\n",
      "Cut Off: 2.4004429877185336\n",
      "V14 Lower: -3.2427850754400573\n",
      "V14 Upper: 3.158396225142699\n",
      " V17 Outliers por causos de fraude: 1\n",
      "V10 outliers:[-3.5721128309038597]\n",
      "------------------------------------------------------------------------------------------------------------------------\n",
      "Quartile 25: -0.486351637121447 | Quartile 75: 0.8659568697572502\n",
      "iqr: 1.352308506878697\n",
      "Cut Off: 2.0284627603180456\n",
      "V14 Lower: -2.5148143974394928\n",
      "V14 Upper: 2.894419630075296\n",
      " V17 Outliers por causos de fraude: 24\n",
      "V10 outliers:[4.50958153237592, -3.3718857883659905, 6.47716376988958, 3.25323567093025, -2.70195970663999, 3.30178313069501, -2.77898922205764, 4.349720243858919, -3.12119626538886, -4.12129950179395, -2.63475205373087, 6.86212917455716, -4.56713229463227, -8.626335959605111, -2.8062541745319503, -3.43361858817667, -3.12878491104258, 10.1114106513967, -3.88228793227279, 5.5273178820713, -2.7360826841759103, -3.50976931820794, -3.0152154287390296, 7.014772233505419]\n",
      "------------------------------------------------------------------------------------------------------------------------\n"
     ]
    }
   ],
   "source": [
    "#  Removendo outliers V17,V16,V14,V12, V10,V9, V3,V4, V11 e V2\n",
    "v_fraud = df_final['V17'].loc[df_final['Class'] == 0].values\n",
    "q25, q75 = np.percentile(v_fraud, 25), np.percentile(v_fraud, 75)\n",
    "print('Quartile 25: {} | Quartile 75: {}'.format(q25, q75))\n",
    "v_iqr = q75 - q25\n",
    "print('iqr: {}'.format(v_iqr))\n",
    "\n",
    "v_cut_off = v_iqr * 1.5\n",
    "v_lower, v_upper = q25 - v_cut_off, q75 + v_cut_off\n",
    "print('Cut Off: {}'.format(v_cut_off))\n",
    "print('V14 Lower: {}'.format(v_lower))\n",
    "print('V14 Upper: {}'.format(v_upper))\n",
    "\n",
    "outliers = [x for x in v_fraud if x < v_lower or x > v_upper]\n",
    "print(' V17 Outliers por causos de fraude: {}'.format(len(outliers)))\n",
    "print('V10 outliers:{}'.format(outliers))\n",
    "\n",
    "new_df = df_final.drop(df_final[(df_final['V17'] > v_upper) | (df_final['V17'] < v_lower)].index)\n",
    "print('----' * 30)\n",
    "\n",
    "#  Removendo outliers V17,V16,V14,V12, V10,V9, V3,V4, V11 e V2\n",
    "v_fraud = df_final['V16'].loc[df_final['Class'] == 0].values\n",
    "q25, q75 = np.percentile(v_fraud, 25), np.percentile(v_fraud, 75)\n",
    "print('Quartile 25: {} | Quartile 75: {}'.format(q25, q75))\n",
    "v_iqr = q75 - q25\n",
    "print('iqr: {}'.format(v_iqr))\n",
    "\n",
    "v_cut_off = v_iqr * 1.5\n",
    "v_lower, v_upper = q25 - v_cut_off, q75 + v_cut_off\n",
    "print('Cut Off: {}'.format(v_cut_off))\n",
    "print('V14 Lower: {}'.format(v_lower))\n",
    "print('V14 Upper: {}'.format(v_upper))\n",
    "\n",
    "outliers = [x for x in v_fraud if x < v_lower or x > v_upper]\n",
    "print(' V17 Outliers por causos de fraude: {}'.format(len(outliers)))\n",
    "print('V10 outliers:{}'.format(outliers))\n",
    "\n",
    "new_df = df_final.drop(df_final[(df_final['V16'] > v_upper) | (df_final['V16'] < v_lower)].index)\n",
    "print('----' * 30)\n",
    "\n",
    "#  Removendo outliers V17,V16,V14,V12, V10,V9, V3,V4, V11 e V2\n",
    "v_fraud = df_final['V14'].loc[df_final['Class'] == 0].values\n",
    "q25, q75 = np.percentile(v_fraud, 25), np.percentile(v_fraud, 75)\n",
    "print('Quartile 25: {} | Quartile 75: {}'.format(q25, q75))\n",
    "v_iqr = q75 - q25\n",
    "print('iqr: {}'.format(v_iqr))\n",
    "\n",
    "v_cut_off = v_iqr * 1.5\n",
    "v_lower, v_upper = q25 - v_cut_off, q75 + v_cut_off\n",
    "print('Cut Off: {}'.format(v_cut_off))\n",
    "print('V14 Lower: {}'.format(v_lower))\n",
    "print('V14 Upper: {}'.format(v_upper))\n",
    "\n",
    "outliers = [x for x in v_fraud if x < v_lower or x > v_upper]\n",
    "print(' V17 Outliers por causos de fraude: {}'.format(len(outliers)))\n",
    "print('V10 outliers:{}'.format(outliers))\n",
    "\n",
    "new_df = df_final.drop(df_final[(df_final['V14'] > v_upper) | (df_final['V14'] < v_lower)].index)\n",
    "print('----' * 30)\n",
    "\n",
    "#  Removendo outliers V17,V16,V14,V12, V10,V9, V3,V4, V11 e V2\n",
    "v_fraud = df_final['V12'].loc[df_final['Class'] == 0].values\n",
    "q25, q75 = np.percentile(v_fraud, 25), np.percentile(v_fraud, 75)\n",
    "print('Quartile 25: {} | Quartile 75: {}'.format(q25, q75))\n",
    "v_iqr = q75 - q25\n",
    "print('iqr: {}'.format(v_iqr))\n",
    "\n",
    "v_cut_off = v_iqr * 1.5\n",
    "v_lower, v_upper = q25 - v_cut_off, q75 + v_cut_off\n",
    "print('Cut Off: {}'.format(v_cut_off))\n",
    "print('V14 Lower: {}'.format(v_lower))\n",
    "print('V14 Upper: {}'.format(v_upper))\n",
    "\n",
    "outliers = [x for x in v_fraud if x < v_lower or x > v_upper]\n",
    "print(' V17 Outliers por causos de fraude: {}'.format(len(outliers)))\n",
    "print('V10 outliers:{}'.format(outliers))\n",
    "\n",
    "new_df = df_final.drop(df_final[(df_final['V12'] > v_upper) | (df_final['V12'] < v_lower)].index)\n",
    "print('----' * 30)\n",
    "\n",
    "#  Removendo outliers V17,V16,V14,V12, V10,V9, V3,V4, V11 e V2\n",
    "v_fraud = df_final['V10'].loc[df_final['Class'] == 0].values\n",
    "q25, q75 = np.percentile(v_fraud, 25), np.percentile(v_fraud, 75)\n",
    "print('Quartile 25: {} | Quartile 75: {}'.format(q25, q75))\n",
    "v_iqr = q75 - q25\n",
    "print('iqr: {}'.format(v_iqr))\n",
    "\n",
    "v_cut_off = v_iqr * 1.5\n",
    "v_lower, v_upper = q25 - v_cut_off, q75 + v_cut_off\n",
    "print('Cut Off: {}'.format(v_cut_off))\n",
    "print('V14 Lower: {}'.format(v_lower))\n",
    "print('V14 Upper: {}'.format(v_upper))\n",
    "\n",
    "outliers = [x for x in v_fraud if x < v_lower or x > v_upper]\n",
    "print(' V17 Outliers por causos de fraude: {}'.format(len(outliers)))\n",
    "print('V10 outliers:{}'.format(outliers))\n",
    "\n",
    "new_df = df_final.drop(df_final[(df_final['V10'] > v_upper) | (df_final['V10'] < v_lower)].index)\n",
    "print('----' * 30)\n",
    "\n",
    "#  Removendo outliers V17,V16,V14,V12, V10,V9, V3,V4, V11 e V2\n",
    "v_fraud = df_final['V9'].loc[df_final['Class'] == 0].values\n",
    "q25, q75 = np.percentile(v_fraud, 25), np.percentile(v_fraud, 75)\n",
    "print('Quartile 25: {} | Quartile 75: {}'.format(q25, q75))\n",
    "v_iqr = q75 - q25\n",
    "print('iqr: {}'.format(v_iqr))\n",
    "\n",
    "v_cut_off = v_iqr * 1.5\n",
    "v_lower, v_upper = q25 - v_cut_off, q75 + v_cut_off\n",
    "print('Cut Off: {}'.format(v_cut_off))\n",
    "print('V14 Lower: {}'.format(v_lower))\n",
    "print('V14 Upper: {}'.format(v_upper))\n",
    "\n",
    "outliers = [x for x in v_fraud if x < v_lower or x > v_upper]\n",
    "print(' V17 Outliers por causos de fraude: {}'.format(len(outliers)))\n",
    "print('V10 outliers:{}'.format(outliers))\n",
    "\n",
    "new_df = df_final.drop(df_final[(df_final['V9'] > v_upper) | (df_final['V9'] < v_lower)].index)\n",
    "print('----' * 30)\n",
    "\n",
    "#  Removendo outliers V17,V16,V14,V12, V10,V9, V3,V4, V11 e V2\n",
    "v_fraud = df_final['V3'].loc[df_final['Class'] == 0].values\n",
    "q25, q75 = np.percentile(v_fraud, 25), np.percentile(v_fraud, 75)\n",
    "print('Quartile 25: {} | Quartile 75: {}'.format(q25, q75))\n",
    "v_iqr = q75 - q25\n",
    "print('iqr: {}'.format(v_iqr))\n",
    "\n",
    "v_cut_off = v_iqr * 1.5\n",
    "v_lower, v_upper = q25 - v_cut_off, q75 + v_cut_off\n",
    "print('Cut Off: {}'.format(v_cut_off))\n",
    "print('V14 Lower: {}'.format(v_lower))\n",
    "print('V14 Upper: {}'.format(v_upper))\n",
    "\n",
    "outliers = [x for x in v_fraud if x < v_lower or x > v_upper]\n",
    "print(' V17 Outliers por causos de fraude: {}'.format(len(outliers)))\n",
    "print('V10 outliers:{}'.format(outliers))\n",
    "\n",
    "new_df = df_final.drop(df_final[(df_final['V3'] > v_upper) | (df_final['V3'] < v_lower)].index)\n",
    "print('----' * 30)\n",
    "\n",
    "#  Removendo outliers V17,V16,V14,V12, V10,V9, V3,V4, V11 e V2\n",
    "v_fraud = df_final['V4'].loc[df_final['Class'] == 0].values\n",
    "q25, q75 = np.percentile(v_fraud, 25), np.percentile(v_fraud, 75)\n",
    "print('Quartile 25: {} | Quartile 75: {}'.format(q25, q75))\n",
    "v_iqr = q75 - q25\n",
    "print('iqr: {}'.format(v_iqr))\n",
    "\n",
    "v_cut_off = v_iqr * 1.5\n",
    "v_lower, v_upper = q25 - v_cut_off, q75 + v_cut_off\n",
    "print('Cut Off: {}'.format(v_cut_off))\n",
    "print('V14 Lower: {}'.format(v_lower))\n",
    "print('V14 Upper: {}'.format(v_upper))\n",
    "\n",
    "outliers = [x for x in v_fraud if x < v_lower or x > v_upper]\n",
    "print(' V17 Outliers por causos de fraude: {}'.format(len(outliers)))\n",
    "print('V10 outliers:{}'.format(outliers))\n",
    "\n",
    "new_df = df_final.drop(df_final[(df_final['V4'] > v_upper) | (df_final['V4'] < v_lower)].index)\n",
    "print('----' * 30)\n",
    "\n",
    "#  Removendo outliers V17,V16,V14,V12, V10,V9, V3,V4, V11 e V2\n",
    "v_fraud = df_final['V11'].loc[df_final['Class'] == 0].values\n",
    "q25, q75 = np.percentile(v_fraud, 25), np.percentile(v_fraud, 75)\n",
    "print('Quartile 25: {} | Quartile 75: {}'.format(q25, q75))\n",
    "v_iqr = q75 - q25\n",
    "print('iqr: {}'.format(v_iqr))\n",
    "\n",
    "v_cut_off = v_iqr * 1.5\n",
    "v_lower, v_upper = q25 - v_cut_off, q75 + v_cut_off\n",
    "print('Cut Off: {}'.format(v_cut_off))\n",
    "print('V14 Lower: {}'.format(v_lower))\n",
    "print('V14 Upper: {}'.format(v_upper))\n",
    "\n",
    "outliers = [x for x in v_fraud if x < v_lower or x > v_upper]\n",
    "print(' V17 Outliers por causos de fraude: {}'.format(len(outliers)))\n",
    "print('V10 outliers:{}'.format(outliers))\n",
    "\n",
    "new_df = df_final.drop(df_final[(df_final['V11'] > v_upper) | (df_final['V11'] < v_lower)].index)\n",
    "print('----' * 30)\n",
    "\n",
    "#  Removendo outliers V17,V16,V14,V12, V10,V9, V3,V4, V11 e V2\n",
    "v_fraud = df_final['V2'].loc[df_final['Class'] == 0].values\n",
    "q25, q75 = np.percentile(v_fraud, 25), np.percentile(v_fraud, 75)\n",
    "print('Quartile 25: {} | Quartile 75: {}'.format(q25, q75))\n",
    "v_iqr = q75 - q25\n",
    "print('iqr: {}'.format(v_iqr))\n",
    "\n",
    "v_cut_off = v_iqr * 1.5\n",
    "v_lower, v_upper = q25 - v_cut_off, q75 + v_cut_off\n",
    "print('Cut Off: {}'.format(v_cut_off))\n",
    "print('V14 Lower: {}'.format(v_lower))\n",
    "print('V14 Upper: {}'.format(v_upper))\n",
    "\n",
    "outliers = [x for x in v_fraud if x < v_lower or x > v_upper]\n",
    "print(' V17 Outliers por causos de fraude: {}'.format(len(outliers)))\n",
    "print('V10 outliers:{}'.format(outliers))\n",
    "\n",
    "new_df = df_final.drop(df_final[(df_final['V2'] > v_upper) | (df_final['V2'] < v_lower)].index)\n",
    "print('----' * 30)\n"
   ]
  },
  {
   "cell_type": "code",
   "execution_count": null,
   "metadata": {},
   "outputs": [],
   "source": []
  },
  {
   "cell_type": "markdown",
   "metadata": {},
   "source": [
    "### Divisão treino-teste sem outliers\n",
    "Vamos começar dividindo nossos dados em um conjunto de treinamento e conjunto de testes:"
   ]
  },
  {
   "cell_type": "code",
   "execution_count": 48,
   "metadata": {},
   "outputs": [],
   "source": [
    "from sklearn.model_selection import train_test_split"
   ]
  },
  {
   "cell_type": "code",
   "execution_count": 49,
   "metadata": {},
   "outputs": [],
   "source": [
    "x=new_df.drop('Class',axis=1)\n",
    "y=new_df['Class']"
   ]
  },
  {
   "cell_type": "code",
   "execution_count": 50,
   "metadata": {},
   "outputs": [
    {
     "data": {
      "text/plain": [
       "(713, 30)"
      ]
     },
     "execution_count": 50,
     "metadata": {},
     "output_type": "execute_result"
    }
   ],
   "source": [
    "x.shape"
   ]
  },
  {
   "cell_type": "code",
   "execution_count": 51,
   "metadata": {},
   "outputs": [
    {
     "data": {
      "text/plain": [
       "(713,)"
      ]
     },
     "execution_count": 51,
     "metadata": {},
     "output_type": "execute_result"
    }
   ],
   "source": [
    "y.shape"
   ]
  },
  {
   "cell_type": "code",
   "execution_count": 52,
   "metadata": {},
   "outputs": [],
   "source": [
    "#redefine o indice\n",
    "#df_final.index = range(984 )"
   ]
  },
  {
   "cell_type": "code",
   "execution_count": 53,
   "metadata": {},
   "outputs": [],
   "source": [
    "X_train, X_test, y_train, y_test = train_test_split(x,y, test_size=0.20, random_state=40)"
   ]
  },
  {
   "cell_type": "markdown",
   "metadata": {},
   "source": [
    "### Treinando o modelo de Regressão Logistica"
   ]
  },
  {
   "cell_type": "code",
   "execution_count": 54,
   "metadata": {},
   "outputs": [],
   "source": [
    "from sklearn.linear_model import LogisticRegression"
   ]
  },
  {
   "cell_type": "code",
   "execution_count": 55,
   "metadata": {},
   "outputs": [
    {
     "data": {
      "text/plain": [
       "LogisticRegression(C=1.0, class_weight=None, dual=False, fit_intercept=True,\n",
       "                   intercept_scaling=1, l1_ratio=None, max_iter=100,\n",
       "                   multi_class='auto', n_jobs=None, penalty='l2',\n",
       "                   random_state=None, solver='lbfgs', tol=0.0001, verbose=0,\n",
       "                   warm_start=False)"
      ]
     },
     "execution_count": 55,
     "metadata": {},
     "output_type": "execute_result"
    }
   ],
   "source": [
    "logmodel = LogisticRegression()\n",
    "logmodel.fit(X_train,y_train)"
   ]
  },
  {
   "cell_type": "code",
   "execution_count": 56,
   "metadata": {},
   "outputs": [],
   "source": [
    "predictions = logmodel.predict(X_test)"
   ]
  },
  {
   "cell_type": "markdown",
   "metadata": {},
   "source": [
    "### Avaliando os resultados:"
   ]
  },
  {
   "cell_type": "code",
   "execution_count": 57,
   "metadata": {},
   "outputs": [],
   "source": [
    "from sklearn.metrics import classification_report"
   ]
  },
  {
   "cell_type": "code",
   "execution_count": 58,
   "metadata": {},
   "outputs": [
    {
     "name": "stdout",
     "output_type": "stream",
     "text": [
      "              precision    recall  f1-score   support\n",
      "\n",
      "           0       0.92      0.97      0.94        91\n",
      "           1       0.94      0.85      0.89        52\n",
      "\n",
      "    accuracy                           0.92       143\n",
      "   macro avg       0.93      0.91      0.92       143\n",
      "weighted avg       0.92      0.92      0.92       143\n",
      "\n"
     ]
    }
   ],
   "source": [
    "print(classification_report(y_test,predictions))"
   ]
  },
  {
   "cell_type": "markdown",
   "metadata": {},
   "source": [
    "Para o modelo de Regressão Logistica a retirada de outliers não apresentou um resultado inferior se comparado com o modelo com outliers"
   ]
  },
  {
   "cell_type": "markdown",
   "metadata": {},
   "source": [
    "O próximo passo é verificar o modelo de Florestas Aleatórias."
   ]
  },
  {
   "cell_type": "markdown",
   "metadata": {},
   "source": [
    "### Treinando o modelo de Floestas aleatórias"
   ]
  },
  {
   "cell_type": "code",
   "execution_count": 59,
   "metadata": {},
   "outputs": [
    {
     "data": {
      "text/plain": [
       "RandomForestClassifier(bootstrap=True, ccp_alpha=0.0, class_weight=None,\n",
       "                       criterion='gini', max_depth=None, max_features='auto',\n",
       "                       max_leaf_nodes=None, max_samples=None,\n",
       "                       min_impurity_decrease=0.0, min_impurity_split=None,\n",
       "                       min_samples_leaf=1, min_samples_split=2,\n",
       "                       min_weight_fraction_leaf=0.0, n_estimators=30,\n",
       "                       n_jobs=None, oob_score=False, random_state=None,\n",
       "                       verbose=0, warm_start=False)"
      ]
     },
     "execution_count": 59,
     "metadata": {},
     "output_type": "execute_result"
    }
   ],
   "source": [
    "\n",
    "from sklearn.ensemble import RandomForestClassifier\n",
    "\n",
    "rfc=RandomForestClassifier(n_estimators=30)\n",
    "\n",
    "rfc.fit(X_train,y_train)"
   ]
  },
  {
   "cell_type": "code",
   "execution_count": 60,
   "metadata": {},
   "outputs": [],
   "source": [
    "rfc_pred=rfc.predict(X_test)"
   ]
  },
  {
   "cell_type": "code",
   "execution_count": 61,
   "metadata": {},
   "outputs": [
    {
     "name": "stdout",
     "output_type": "stream",
     "text": [
      "              precision    recall  f1-score   support\n",
      "\n",
      "           0       0.90      0.99      0.94        91\n",
      "           1       0.98      0.81      0.88        52\n",
      "\n",
      "    accuracy                           0.92       143\n",
      "   macro avg       0.94      0.90      0.91       143\n",
      "weighted avg       0.93      0.92      0.92       143\n",
      "\n"
     ]
    }
   ],
   "source": [
    "print(classification_report(y_test,rfc_pred))"
   ]
  },
  {
   "cell_type": "markdown",
   "metadata": {},
   "source": [
    "Pelo resultado acima temos que a retirada de outliers também não proporcionou melhores resultados para o modelo de Florestas Aleatórias"
   ]
  },
  {
   "cell_type": "code",
   "execution_count": null,
   "metadata": {},
   "outputs": [],
   "source": []
  },
  {
   "cell_type": "code",
   "execution_count": null,
   "metadata": {},
   "outputs": [],
   "source": []
  },
  {
   "cell_type": "markdown",
   "metadata": {},
   "source": [
    "Duvidas:\n",
    "quanto aos outliers retira apenas das fraudes ou tambem não fraudes?\n",
    "retirar as colunas que apresentam baixa relação com o resultado final poderia melhorar o desempenho do modelo?"
   ]
  },
  {
   "cell_type": "code",
   "execution_count": null,
   "metadata": {},
   "outputs": [],
   "source": []
  }
 ],
 "metadata": {
  "kernelspec": {
   "display_name": "Python 3",
   "language": "python",
   "name": "python3"
  },
  "language_info": {
   "codemirror_mode": {
    "name": "ipython",
    "version": 3
   },
   "file_extension": ".py",
   "mimetype": "text/x-python",
   "name": "python",
   "nbconvert_exporter": "python",
   "pygments_lexer": "ipython3",
   "version": "3.7.6"
  }
 },
 "nbformat": 4,
 "nbformat_minor": 4
}
